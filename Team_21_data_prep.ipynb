{
 "cells": [
  {
   "cell_type": "code",
   "execution_count": null,
   "metadata": {},
   "outputs": [],
   "source": [
    "import numpy as np\n",
    "import pandas as pd"
   ]
  },
  {
   "cell_type": "code",
   "execution_count": null,
   "metadata": {},
   "outputs": [],
   "source": [
    "data = pd.read_csv(\"./1_Data_source/datasets_hi4/train-data.csv\", sep=';')"
   ]
  },
  {
   "cell_type": "code",
   "execution_count": 11,
   "metadata": {},
   "outputs": [],
   "source": [
    "data_ = data.copy()\n"
   ]
  },
  {
   "cell_type": "code",
   "execution_count": 12,
   "metadata": {},
   "outputs": [],
   "source": [
    "def data_prep_train(df):\n",
    "    \"\"\" Prepare data for ML tasks \"\"\"\n",
    "    # Transform volume data into float64 data and discarding NaN\n",
    "    for month in [\"Month 1\", \"Month 2\", \"Month 3\", \"Month 4\"]:\n",
    "        df[month] = df[month].str.replace(\" \", \"\").fillna(\"0\").astype(float)\n",
    "    \n",
    "    # Clean Date infos\n",
    "    month_lib = {\n",
    "        \"jan\": 0,\n",
    "        \"feb\": 1,    \n",
    "        \"mar\": 2,\n",
    "        \"apr\": 3,    \n",
    "        \"may\": 4,\n",
    "        \"jun\": 5,    \n",
    "        \"jul\": 6,\n",
    "        \"aug\": 7,    \n",
    "        \"sep\": 8,\n",
    "        \"oct\": 9,    \n",
    "        \"nov\": 10,\n",
    "        \"dec\": 11\n",
    "    }\n",
    "    date = df[\"Date\"].str.split(n=1, expand=True)\n",
    "    df[\"Year\"] = date[1]\n",
    "    df[\"Quadr\"] = pd.to_numeric(date[0].str.slice(stop=3).replace(month_lib))//3\n",
    "    df[\"Quadr\"] = df[\"Quadr\"].astype(str)\n",
    "    \n",
    "    # Get rid off duplicates\n",
    "    df.drop_duplicates(inplace=True)\n",
    "\n",
    "def data_prep_test(df):\n",
    "    \"\"\" Prepare data for ML tasks \"\"\"\n",
    "    # Transform volume data into float64 data and discarding NaN\n",
    "    for month in [\"Month 1\", \"Month 2\", \"Month 3\"]:\n",
    "        df[month] = df[month].str.replace(\" \", \"\").fillna(\"0\").astype(float)\n",
    "        \n",
    "    # Clean Date infos\n",
    "    month_lib = {\n",
    "        \"jan\": 0,\n",
    "        \"feb\": 1,    \n",
    "        \"mar\": 2,\n",
    "        \"apr\": 3,    \n",
    "        \"may\": 4,\n",
    "        \"jun\": 5,    \n",
    "        \"jul\": 6,\n",
    "        \"aug\": 7,    \n",
    "        \"sep\": 8,\n",
    "        \"oct\": 9,    \n",
    "        \"nov\": 10,\n",
    "        \"dec\": 11\n",
    "    }\n",
    "    date = df[\"Date\"].str.split(n=1, expand=True)\n",
    "    df[\"Year\"] = date[1]\n",
    "    df[\"Quadr\"] = pd.to_numeric(date[0].str.slice(stop=3).replace(month_lib))//3\n",
    "    df[\"Quadr\"] = df[\"Quadr\"].astype(str)\n",
    "\n",
    "    # KEEP duplicates\n",
    "    #df.drop_duplicates(inplace=True)\n"
   ]
  },
  {
   "cell_type": "code",
   "execution_count": 13,
   "metadata": {},
   "outputs": [],
   "source": [
    "data_prep_train(data_)"
   ]
  },
  {
   "cell_type": "code",
   "execution_count": 14,
   "metadata": {},
   "outputs": [],
   "source": [
    "data_.to_csv(\"data_prepared.csv\", index=True, sep=\";\")"
   ]
  },
  {
   "cell_type": "markdown",
   "metadata": {},
   "source": [
    "## Test dataset preparation"
   ]
  },
  {
   "cell_type": "code",
   "execution_count": 15,
   "metadata": {},
   "outputs": [],
   "source": [
    "data_submit = pd.read_csv(\"./1_Data_source/datasets_hi4/X_test.csv\", sep=\";\")"
   ]
  },
  {
   "cell_type": "code",
   "execution_count": 16,
   "metadata": {},
   "outputs": [],
   "source": [
    "data_submit_ = data_submit.copy()\n",
    "data_prep_test(data_submit_)"
   ]
  },
  {
   "cell_type": "code",
   "execution_count": 17,
   "metadata": {},
   "outputs": [],
   "source": [
    "data_submit_.to_csv(\"X_submit_prepared.csv\", index=True, sep=\";\")"
   ]
  },
  {
   "cell_type": "code",
   "execution_count": null,
   "metadata": {},
   "outputs": [],
   "source": []
  }
 ],
 "metadata": {
  "kernelspec": {
   "display_name": "hick",
   "language": "python",
   "name": "python3"
  },
  "language_info": {
   "codemirror_mode": {
    "name": "ipython",
    "version": 3
   },
   "file_extension": ".py",
   "mimetype": "text/x-python",
   "name": "python",
   "nbconvert_exporter": "python",
   "pygments_lexer": "ipython3",
   "version": "3.11.5"
  }
 },
 "nbformat": 4,
 "nbformat_minor": 2
}
