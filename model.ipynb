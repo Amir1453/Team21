{
 "cells": [
  {
   "cell_type": "code",
   "execution_count": 80,
   "id": "e3309500",
   "metadata": {},
   "outputs": [],
   "source": [
    "## Common python packages\n",
    "import numpy as np\n",
    "import pandas as pd\n",
    "\n",
    "## For plotting\n",
    "import matplotlib.pyplot as plt\n",
    "from matplotlib import rcParams\n",
    "%matplotlib inline\n",
    "import seaborn as sns\n",
    "sns.set_style(\"white\")\n",
    "sns.set_context(\"notebook\")\n",
    "sns.set_color_codes()\n",
    "import hist, mplhep\n",
    "\n",
    "## sklearn - ML tools\n",
    "from sklearn.model_selection import train_test_split, GridSearchCV\n",
    "from sklearn.metrics import accuracy_score, confusion_matrix, ConfusionMatrixDisplay, roc_curve, auc, precision_recall_curve\n",
    "from sklearn.utils import resample, shuffle\n",
    "\n",
    "from xgboost.sklearn import XGBClassifier\n",
    "import xgboost as xgb\n",
    "\n",
    "## weighted stats\n",
    "from statsmodels.stats.weightstats import DescrStatsW\n",
    "\n",
    "## \"-\" sign for graphs\n",
    "rcParams['axes.unicode_minus'] = False\n",
    "\n",
    "## Some extra styling\n",
    "def namestr(obj, namespace = globals()):\n",
    "    \"Prints the name of a variable\"\n",
    "    return [name for name in namespace if namespace[name] is obj][0]\n",
    "\n",
    "## For time\n",
    "from time import time\n",
    "from dateutil.relativedelta import relativedelta\n",
    "\n",
    "##\n",
    "from dataprep.clean import clean_country"
   ]
  },
  {
   "cell_type": "code",
   "execution_count": 2,
   "id": "b0d97118",
   "metadata": {},
   "outputs": [],
   "source": [
    "## Univar Tools\n",
    "def data_stats(df, cols = None):\n",
    "    cols = df.columns if cols is None else cols\n",
    "    return pd.DataFrame({\"Mean\": df[cols].mean, \"Med\": df[cols].median(), \"STD\": df[cols].std, \n",
    "                         \"Min\": df[cols].min(), \"Max\": df[cols].max()})\n",
    "              \n",
    "def hist_plotter(df, cols = None, range_x = None, n_std = 1, size = None, nbin = 100):\n",
    "    cols = df.select_dtypes(include=np.number).columns if cols is None else cols\n",
    "    for col in cols:\n",
    "        range_ = [df[col].min() + n_std * df[col].std(), df[col].max() - n_std * df[col].std()] if range_x is None else range_x\n",
    "        fig, ax = plt.subplots(1,1)\n",
    "        df[col].plot(kind = \"hist\", range = range_, edgecolor = \"blue\", alpha = 1, bins = nbin, density = 1, ax = ax, figsize = size)\n",
    "        plt.xlabel(col)\n",
    "        plt.show()\n",
    "    \n",
    "def box_plotter(df, cols = None):\n",
    "    cols = df.columns if cols is None else cols\n",
    "    fig, ax = plt.subplots(1, 1)\n",
    "    df[cols].boxplot(ax=ax)\n",
    "    plt.xticks(rotation = 90)\n",
    "    plt.show()"
   ]
  },
  {
   "cell_type": "code",
   "execution_count": 3,
   "id": "d0dc0830",
   "metadata": {},
   "outputs": [],
   "source": [
    "## Bivar Tools\n",
    "def data_corr(df, size = None, cols = None):\n",
    "    cols = df.columns if cols is None else cols \n",
    "    size = (len(cols), len(cols)) if size is None else size\n",
    "    plt.figure(figsize = size)\n",
    "    sns.heatmap(df.corr(), cmap = \"coolwarm\", square = True, vmin = -1, vmax = 1, annot=True)\n",
    "    plt.show()"
   ]
  },
  {
   "cell_type": "code",
   "execution_count": 4,
   "id": "1b4bbc6f",
   "metadata": {},
   "outputs": [],
   "source": [
    "month_lib = {\n",
    "    \"jan\": \"-01\",\n",
    "    \"feb\": \"-02\",    \n",
    "    \"mar\": \"-03\",\n",
    "    \"apr\": \"-04\",    \n",
    "    \"may\": \"-05\",\n",
    "    \"jun\": \"-06\",    \n",
    "    \"jul\": \"-07\",\n",
    "    \"aug\": \"-08\",    \n",
    "    \"sep\": \"-09\",\n",
    "    \"oct\": \"-10\",    \n",
    "    \"nov\": \"-11\",\n",
    "    \"dec\": \"-12\"\n",
    "}"
   ]
  },
  {
   "cell_type": "code",
   "execution_count": 50,
   "id": "646c43e6",
   "metadata": {},
   "outputs": [],
   "source": [
    "df = pd.read_csv(\"datasets_hi4/train-data.csv\", sep=\";\")\n",
    "df_GSCPI = pd.read_csv(\"datasets_hi4/extra-dataset/GSCPI_data.csv\")\n",
    "df_LPI = pd.read_csv(\"datasets_hi4/extra-dataset/LPIextend.csv\")"
   ]
  },
  {
   "cell_type": "code",
   "execution_count": 6,
   "id": "8836c1bc",
   "metadata": {},
   "outputs": [],
   "source": [
    "df_GSCPI[\"Date\"] = pd.to_datetime(df_GSCPI[\"Year-Month\"] + \"-01\", yearfirst=True)\n",
    "df_GSCPI = df_GSCPI.drop(columns = [\"Year-Month\"])"
   ]
  },
  {
   "cell_type": "code",
   "execution_count": 61,
   "id": "0b24c9be",
   "metadata": {},
   "outputs": [
    {
     "data": {
      "text/plain": [
       "0"
      ]
     },
     "execution_count": 61,
     "metadata": {},
     "output_type": "execute_result"
    }
   ],
   "source": [
    "sum(df_LPI[\"Country\"].duplicated())"
   ]
  },
  {
   "cell_type": "code",
   "execution_count": 51,
   "id": "6f7c25dc",
   "metadata": {
    "scrolled": true
   },
   "outputs": [
    {
     "data": {
      "text/plain": [
       "Index(['Unnamed: 0', 'ID', 'Country', 'population (2023)', 'area',\n",
       "       'landAreaKm', 'unMember', 'netChange', 'growthRate', 'worldPercentage',\n",
       "       'density', 'densityMi', 'rank', 'LPI Grouped Rank', 'Customs Score',\n",
       "       'Customs Grouped Rank', 'Infrastructure Score',\n",
       "       'Infrastructure Grouped Rank', 'International Shipments Score',\n",
       "       'International Shipments Grouped Rank',\n",
       "       'Logistics Competence and Quality Score',\n",
       "       'Logistics Competence and Quality Grouped Rank', 'Timeliness Score',\n",
       "       'Timeliness Grouped Rank', 'Tracking and Tracing Score',\n",
       "       'Tracking and Tracing Grouped Rank'],\n",
       "      dtype='object')"
      ]
     },
     "execution_count": 51,
     "metadata": {},
     "output_type": "execute_result"
    }
   ],
   "source": [
    "df_LPI.columns"
   ]
  },
  {
   "cell_type": "code",
   "execution_count": 85,
   "id": "449700a5",
   "metadata": {},
   "outputs": [
    {
     "name": "stderr",
     "output_type": "stream",
     "text": [
      "/home/alper/anaconda3/lib/python3.8/site-packages/dask/dataframe/core.py:6597: FutureWarning: Meta is not valid, `map_partitions` and `map_overlap` expects output to be a pandas object. Try passing a pandas object as meta or a dict or tuple representing the (name, dtype) of the columns. In the future the meta you passed will not work.\n",
      "  warnings.warn(\n"
     ]
    },
    {
     "data": {
      "application/vnd.jupyter.widget-view+json": {
       "model_id": "",
       "version_major": 2,
       "version_minor": 0
      },
      "text/plain": [
       "  0%|                                                     | 0/8 [00:00<?, ?it/s]"
      ]
     },
     "metadata": {},
     "output_type": "display_data"
    },
    {
     "name": "stdout",
     "output_type": "stream",
     "text": [
      "Country Cleaning Report:\n",
      "\t248 values cleaned (99.2%)\n",
      "\t2 values unable to be parsed (0.8%), set to NaN\n",
      "Result contains 248 (99.2%) values in the correct format and 2 null values (0.8%)\n"
     ]
    },
    {
     "ename": "ValueError",
     "evalue": "Columns must be same length as key",
     "output_type": "error",
     "traceback": [
      "\u001b[0;31m---------------------------------------------------------------------------\u001b[0m",
      "\u001b[0;31mValueError\u001b[0m                                Traceback (most recent call last)",
      "\u001b[0;32m/tmp/ipykernel_4480/2317065435.py\u001b[0m in \u001b[0;36m<module>\u001b[0;34m\u001b[0m\n\u001b[0;32m----> 1\u001b[0;31m \u001b[0mdf_LPI\u001b[0m\u001b[0;34m[\u001b[0m\u001b[0;34m\"Country\"\u001b[0m\u001b[0;34m]\u001b[0m \u001b[0;34m=\u001b[0m \u001b[0mclean_country\u001b[0m\u001b[0;34m(\u001b[0m\u001b[0mdf_LPI\u001b[0m\u001b[0;34m,\u001b[0m \u001b[0;34m\"Country\"\u001b[0m\u001b[0;34m,\u001b[0m \u001b[0moutput_format\u001b[0m\u001b[0;34m=\u001b[0m\u001b[0;34m\"alpha-2\"\u001b[0m\u001b[0;34m)\u001b[0m\u001b[0;34m\u001b[0m\u001b[0;34m\u001b[0m\u001b[0m\n\u001b[0m\u001b[1;32m      2\u001b[0m \u001b[0;34m\u001b[0m\u001b[0m\n\u001b[1;32m      3\u001b[0m \u001b[0;31m#cols = [\"Country\"]\u001b[0m\u001b[0;34m\u001b[0m\u001b[0;34m\u001b[0m\u001b[0;34m\u001b[0m\u001b[0m\n\u001b[1;32m      4\u001b[0m \u001b[0;31m#for col in df_LPI.columns:\u001b[0m\u001b[0;34m\u001b[0m\u001b[0;34m\u001b[0m\u001b[0;34m\u001b[0m\u001b[0m\n\u001b[1;32m      5\u001b[0m \u001b[0;31m#    if \"Score\" in col:\u001b[0m\u001b[0;34m\u001b[0m\u001b[0;34m\u001b[0m\u001b[0;34m\u001b[0m\u001b[0m\n",
      "\u001b[0;32m~/anaconda3/lib/python3.8/site-packages/pandas/core/frame.py\u001b[0m in \u001b[0;36m__setitem__\u001b[0;34m(self, key, value)\u001b[0m\n\u001b[1;32m   3965\u001b[0m             \u001b[0mself\u001b[0m\u001b[0;34m.\u001b[0m\u001b[0m_setitem_array\u001b[0m\u001b[0;34m(\u001b[0m\u001b[0mkey\u001b[0m\u001b[0;34m,\u001b[0m \u001b[0mvalue\u001b[0m\u001b[0;34m)\u001b[0m\u001b[0;34m\u001b[0m\u001b[0;34m\u001b[0m\u001b[0m\n\u001b[1;32m   3966\u001b[0m         \u001b[0;32melif\u001b[0m \u001b[0misinstance\u001b[0m\u001b[0;34m(\u001b[0m\u001b[0mvalue\u001b[0m\u001b[0;34m,\u001b[0m \u001b[0mDataFrame\u001b[0m\u001b[0;34m)\u001b[0m\u001b[0;34m:\u001b[0m\u001b[0;34m\u001b[0m\u001b[0;34m\u001b[0m\u001b[0m\n\u001b[0;32m-> 3967\u001b[0;31m             \u001b[0mself\u001b[0m\u001b[0;34m.\u001b[0m\u001b[0m_set_item_frame_value\u001b[0m\u001b[0;34m(\u001b[0m\u001b[0mkey\u001b[0m\u001b[0;34m,\u001b[0m \u001b[0mvalue\u001b[0m\u001b[0;34m)\u001b[0m\u001b[0;34m\u001b[0m\u001b[0;34m\u001b[0m\u001b[0m\n\u001b[0m\u001b[1;32m   3968\u001b[0m         elif (\n\u001b[1;32m   3969\u001b[0m             \u001b[0mis_list_like\u001b[0m\u001b[0;34m(\u001b[0m\u001b[0mvalue\u001b[0m\u001b[0;34m)\u001b[0m\u001b[0;34m\u001b[0m\u001b[0;34m\u001b[0m\u001b[0m\n",
      "\u001b[0;32m~/anaconda3/lib/python3.8/site-packages/pandas/core/frame.py\u001b[0m in \u001b[0;36m_set_item_frame_value\u001b[0;34m(self, key, value)\u001b[0m\n\u001b[1;32m   4095\u001b[0m             \u001b[0mlen_cols\u001b[0m \u001b[0;34m=\u001b[0m \u001b[0;36m1\u001b[0m \u001b[0;32mif\u001b[0m \u001b[0mis_scalar\u001b[0m\u001b[0;34m(\u001b[0m\u001b[0mcols\u001b[0m\u001b[0;34m)\u001b[0m \u001b[0;32melse\u001b[0m \u001b[0mlen\u001b[0m\u001b[0;34m(\u001b[0m\u001b[0mcols\u001b[0m\u001b[0;34m)\u001b[0m\u001b[0;34m\u001b[0m\u001b[0;34m\u001b[0m\u001b[0m\n\u001b[1;32m   4096\u001b[0m             \u001b[0;32mif\u001b[0m \u001b[0mlen_cols\u001b[0m \u001b[0;34m!=\u001b[0m \u001b[0mlen\u001b[0m\u001b[0;34m(\u001b[0m\u001b[0mvalue\u001b[0m\u001b[0;34m.\u001b[0m\u001b[0mcolumns\u001b[0m\u001b[0;34m)\u001b[0m\u001b[0;34m:\u001b[0m\u001b[0;34m\u001b[0m\u001b[0;34m\u001b[0m\u001b[0m\n\u001b[0;32m-> 4097\u001b[0;31m                 \u001b[0;32mraise\u001b[0m \u001b[0mValueError\u001b[0m\u001b[0;34m(\u001b[0m\u001b[0;34m\"Columns must be same length as key\"\u001b[0m\u001b[0;34m)\u001b[0m\u001b[0;34m\u001b[0m\u001b[0;34m\u001b[0m\u001b[0m\n\u001b[0m\u001b[1;32m   4098\u001b[0m \u001b[0;34m\u001b[0m\u001b[0m\n\u001b[1;32m   4099\u001b[0m             \u001b[0;31m# align right-hand-side columns if self.columns\u001b[0m\u001b[0;34m\u001b[0m\u001b[0;34m\u001b[0m\u001b[0;34m\u001b[0m\u001b[0m\n",
      "\u001b[0;31mValueError\u001b[0m: Columns must be same length as key"
     ]
    }
   ],
   "source": [
    "df_LPI[\"Country\"] = clean_country(df_LPI, \"Country\", output_format=\"alpha-2\")\n",
    "\n",
    "#cols = [\"Country\"]\n",
    "#for col in df_LPI.columns:\n",
    "#    if \"Score\" in col:\n",
    "#            cols.append(col)\n",
    "#df[] = df_LPI[cols].groupby([\"Country\"]).mean(axis=1)\n",
    "df_LPI[\"Country\"]"
   ]
  },
  {
   "cell_type": "code",
   "execution_count": 39,
   "id": "29ea19cd",
   "metadata": {},
   "outputs": [
    {
     "data": {
      "text/plain": [
       "0    4.316667\n",
       "1    4.166667\n",
       "2    4.050000\n",
       "3    4.066667\n",
       "4    4.033333\n",
       "Name: LogPerf, dtype: float64"
      ]
     },
     "execution_count": 39,
     "metadata": {},
     "output_type": "execute_result"
    }
   ],
   "source": [
    "df_LPI.head()"
   ]
  },
  {
   "cell_type": "code",
   "execution_count": 18,
   "id": "5ca3c39b",
   "metadata": {},
   "outputs": [
    {
     "ename": "TypeError",
     "evalue": "drop() got an unexpected keyword argument 'column'",
     "output_type": "error",
     "traceback": [
      "\u001b[0;31m---------------------------------------------------------------------------\u001b[0m",
      "\u001b[0;31mTypeError\u001b[0m                                 Traceback (most recent call last)",
      "\u001b[0;32m/tmp/ipykernel_4480/732497545.py\u001b[0m in \u001b[0;36m<module>\u001b[0;34m\u001b[0m\n\u001b[1;32m      2\u001b[0m \u001b[0mdf\u001b[0m\u001b[0;34m[\u001b[0m\u001b[0;34m\"Date_in\"\u001b[0m\u001b[0;34m]\u001b[0m \u001b[0;34m=\u001b[0m \u001b[0mpd\u001b[0m\u001b[0;34m.\u001b[0m\u001b[0mto_datetime\u001b[0m\u001b[0;34m(\u001b[0m\u001b[0mdate\u001b[0m\u001b[0;34m[\u001b[0m\u001b[0;36m1\u001b[0m\u001b[0;34m]\u001b[0m \u001b[0;34m+\u001b[0m \u001b[0mdate\u001b[0m\u001b[0;34m[\u001b[0m\u001b[0;36m0\u001b[0m\u001b[0;34m]\u001b[0m\u001b[0;34m.\u001b[0m\u001b[0mstr\u001b[0m\u001b[0;34m.\u001b[0m\u001b[0mslice\u001b[0m\u001b[0;34m(\u001b[0m\u001b[0mstop\u001b[0m\u001b[0;34m=\u001b[0m\u001b[0;36m3\u001b[0m\u001b[0;34m)\u001b[0m\u001b[0;34m.\u001b[0m\u001b[0mreplace\u001b[0m\u001b[0;34m(\u001b[0m\u001b[0mmonth_lib\u001b[0m\u001b[0;34m)\u001b[0m \u001b[0;34m+\u001b[0m \u001b[0;34m\"-01\"\u001b[0m\u001b[0;34m)\u001b[0m\u001b[0;34m\u001b[0m\u001b[0;34m\u001b[0m\u001b[0m\n\u001b[1;32m      3\u001b[0m \u001b[0mdf\u001b[0m\u001b[0;34m[\u001b[0m\u001b[0;34m\"Date_fin\"\u001b[0m\u001b[0;34m]\u001b[0m \u001b[0;34m=\u001b[0m \u001b[0mdf\u001b[0m\u001b[0;34m.\u001b[0m\u001b[0mapply\u001b[0m\u001b[0;34m(\u001b[0m\u001b[0;32mlambda\u001b[0m \u001b[0mrow\u001b[0m\u001b[0;34m:\u001b[0m \u001b[0mrow\u001b[0m\u001b[0;34m.\u001b[0m\u001b[0mDate_in\u001b[0m \u001b[0;34m+\u001b[0m \u001b[0mrelativedelta\u001b[0m\u001b[0;34m(\u001b[0m\u001b[0mmonths\u001b[0m\u001b[0;34m=\u001b[0m\u001b[0;36m3\u001b[0m\u001b[0;34m)\u001b[0m\u001b[0;34m,\u001b[0m \u001b[0maxis\u001b[0m\u001b[0;34m=\u001b[0m\u001b[0;36m1\u001b[0m\u001b[0;34m)\u001b[0m\u001b[0;34m\u001b[0m\u001b[0;34m\u001b[0m\u001b[0m\n\u001b[0;32m----> 4\u001b[0;31m \u001b[0mdf\u001b[0m \u001b[0;34m=\u001b[0m \u001b[0mdf\u001b[0m\u001b[0;34m.\u001b[0m\u001b[0mdrop\u001b[0m\u001b[0;34m(\u001b[0m\u001b[0mcolumn\u001b[0m \u001b[0;34m=\u001b[0m \u001b[0;34m\"Date\"\u001b[0m\u001b[0;34m)\u001b[0m\u001b[0;34m\u001b[0m\u001b[0;34m\u001b[0m\u001b[0m\n\u001b[0m",
      "\u001b[0;32m~/anaconda3/lib/python3.8/site-packages/pandas/util/_decorators.py\u001b[0m in \u001b[0;36mwrapper\u001b[0;34m(*args, **kwargs)\u001b[0m\n\u001b[1;32m    329\u001b[0m                     \u001b[0mstacklevel\u001b[0m\u001b[0;34m=\u001b[0m\u001b[0mfind_stack_level\u001b[0m\u001b[0;34m(\u001b[0m\u001b[0;34m)\u001b[0m\u001b[0;34m,\u001b[0m\u001b[0;34m\u001b[0m\u001b[0;34m\u001b[0m\u001b[0m\n\u001b[1;32m    330\u001b[0m                 )\n\u001b[0;32m--> 331\u001b[0;31m             \u001b[0;32mreturn\u001b[0m \u001b[0mfunc\u001b[0m\u001b[0;34m(\u001b[0m\u001b[0;34m*\u001b[0m\u001b[0margs\u001b[0m\u001b[0;34m,\u001b[0m \u001b[0;34m**\u001b[0m\u001b[0mkwargs\u001b[0m\u001b[0;34m)\u001b[0m\u001b[0;34m\u001b[0m\u001b[0;34m\u001b[0m\u001b[0m\n\u001b[0m\u001b[1;32m    332\u001b[0m \u001b[0;34m\u001b[0m\u001b[0m\n\u001b[1;32m    333\u001b[0m         \u001b[0;31m# error: \"Callable[[VarArg(Any), KwArg(Any)], Any]\" has no\u001b[0m\u001b[0;34m\u001b[0m\u001b[0;34m\u001b[0m\u001b[0;34m\u001b[0m\u001b[0m\n",
      "\u001b[0;31mTypeError\u001b[0m: drop() got an unexpected keyword argument 'column'"
     ]
    }
   ],
   "source": [
    "date = df[\"Date\"].str.split(n=1, expand=True)\n",
    "df[\"Date_in\"] = pd.to_datetime(date[1] + date[0].str.slice(stop=3).replace(month_lib) + \"-01\")\n",
    "df[\"Date_fin\"] = df.apply(lambda row: row.Date_in + relativedelta(months=3), axis=1)\n",
    "df = df.drop(columns = [\"Date\"])"
   ]
  },
  {
   "cell_type": "code",
   "execution_count": 17,
   "id": "97db305e",
   "metadata": {},
   "outputs": [
    {
     "data": {
      "text/html": [
       "<div>\n",
       "<style scoped>\n",
       "    .dataframe tbody tr th:only-of-type {\n",
       "        vertical-align: middle;\n",
       "    }\n",
       "\n",
       "    .dataframe tbody tr th {\n",
       "        vertical-align: top;\n",
       "    }\n",
       "\n",
       "    .dataframe thead th {\n",
       "        text-align: right;\n",
       "    }\n",
       "</style>\n",
       "<table border=\"1\" class=\"dataframe\">\n",
       "  <thead>\n",
       "    <tr style=\"text-align: right;\">\n",
       "      <th></th>\n",
       "      <th>index</th>\n",
       "      <th>id_product</th>\n",
       "      <th>Region</th>\n",
       "      <th>Country</th>\n",
       "      <th>Site</th>\n",
       "      <th>Operations</th>\n",
       "      <th>Zone</th>\n",
       "      <th>Cluster</th>\n",
       "      <th>Reference proxy</th>\n",
       "      <th>Product  Line proxy</th>\n",
       "      <th>...</th>\n",
       "      <th>Customer Persona proxy</th>\n",
       "      <th>Strategic Product Family proxy</th>\n",
       "      <th>Product Life cycel status</th>\n",
       "      <th>Date</th>\n",
       "      <th>Month 1</th>\n",
       "      <th>Month 2</th>\n",
       "      <th>Month 3</th>\n",
       "      <th>Month 4</th>\n",
       "      <th>Date_in</th>\n",
       "      <th>Date_fin</th>\n",
       "    </tr>\n",
       "  </thead>\n",
       "  <tbody>\n",
       "    <tr>\n",
       "      <th>0</th>\n",
       "      <td>645874</td>\n",
       "      <td>156160</td>\n",
       "      <td>EUROPE</td>\n",
       "      <td>DE</td>\n",
       "      <td>NL_DC_Venray</td>\n",
       "      <td>Europe Operations</td>\n",
       "      <td>DACH</td>\n",
       "      <td>Germany</td>\n",
       "      <td>reference-13523</td>\n",
       "      <td>Product Line-4</td>\n",
       "      <td>...</td>\n",
       "      <td>Customer Segmentation-3</td>\n",
       "      <td>Strategic Product Family-12</td>\n",
       "      <td>NaN</td>\n",
       "      <td>may-aug 2021</td>\n",
       "      <td>0</td>\n",
       "      <td>0</td>\n",
       "      <td>0</td>\n",
       "      <td>0</td>\n",
       "      <td>2021-05-01</td>\n",
       "      <td>2021-08-01</td>\n",
       "    </tr>\n",
       "    <tr>\n",
       "      <th>1</th>\n",
       "      <td>469488</td>\n",
       "      <td>224631</td>\n",
       "      <td>CHINA</td>\n",
       "      <td>CN</td>\n",
       "      <td>CN_DC_Shanghai</td>\n",
       "      <td>China Operations</td>\n",
       "      <td>China &amp; HK</td>\n",
       "      <td>China</td>\n",
       "      <td>reference-12778</td>\n",
       "      <td>Product Line-4</td>\n",
       "      <td>...</td>\n",
       "      <td>Customer Segmentation-14</td>\n",
       "      <td>Strategic Product Family-9</td>\n",
       "      <td>NaN</td>\n",
       "      <td>jan-apr 2021</td>\n",
       "      <td>0</td>\n",
       "      <td>1</td>\n",
       "      <td>0</td>\n",
       "      <td>0</td>\n",
       "      <td>2021-01-01</td>\n",
       "      <td>2021-04-01</td>\n",
       "    </tr>\n",
       "    <tr>\n",
       "      <th>2</th>\n",
       "      <td>348904</td>\n",
       "      <td>104047</td>\n",
       "      <td>EUROPE</td>\n",
       "      <td>GB</td>\n",
       "      <td>NL_DC_HLD</td>\n",
       "      <td>Europe Operations</td>\n",
       "      <td>UK and Ireland</td>\n",
       "      <td>United Kingdom</td>\n",
       "      <td>reference-3513</td>\n",
       "      <td>Product Line-3</td>\n",
       "      <td>...</td>\n",
       "      <td>Customer Segmentation-23</td>\n",
       "      <td>Strategic Product Family-7</td>\n",
       "      <td>NaN</td>\n",
       "      <td>jan-apr 2021</td>\n",
       "      <td>0</td>\n",
       "      <td>2</td>\n",
       "      <td>0</td>\n",
       "      <td>0</td>\n",
       "      <td>2021-01-01</td>\n",
       "      <td>2021-04-01</td>\n",
       "    </tr>\n",
       "    <tr>\n",
       "      <th>3</th>\n",
       "      <td>1725822</td>\n",
       "      <td>11823</td>\n",
       "      <td>EAJP</td>\n",
       "      <td>AU</td>\n",
       "      <td>AU_DC_Perth</td>\n",
       "      <td>International Operations</td>\n",
       "      <td>Pacific</td>\n",
       "      <td>Australia</td>\n",
       "      <td>reference-672</td>\n",
       "      <td>Product Line-1</td>\n",
       "      <td>...</td>\n",
       "      <td>Customer Segmentation-11</td>\n",
       "      <td>Strategic Product Family-3</td>\n",
       "      <td>NaN</td>\n",
       "      <td>jan-apr 2023</td>\n",
       "      <td>0</td>\n",
       "      <td>0</td>\n",
       "      <td>0</td>\n",
       "      <td>0</td>\n",
       "      <td>2023-01-01</td>\n",
       "      <td>2023-04-01</td>\n",
       "    </tr>\n",
       "    <tr>\n",
       "      <th>4</th>\n",
       "      <td>404781</td>\n",
       "      <td>159924</td>\n",
       "      <td>EUROPE</td>\n",
       "      <td>ES</td>\n",
       "      <td>NL_DC_HLD</td>\n",
       "      <td>Europe Operations</td>\n",
       "      <td>Iberia</td>\n",
       "      <td>Spain</td>\n",
       "      <td>reference-3496</td>\n",
       "      <td>Product Line-3</td>\n",
       "      <td>...</td>\n",
       "      <td>Customer Segmentation-14</td>\n",
       "      <td>Strategic Product Family-7</td>\n",
       "      <td>NaN</td>\n",
       "      <td>jan-apr 2021</td>\n",
       "      <td>0</td>\n",
       "      <td>0</td>\n",
       "      <td>0</td>\n",
       "      <td>0</td>\n",
       "      <td>2021-01-01</td>\n",
       "      <td>2021-04-01</td>\n",
       "    </tr>\n",
       "  </tbody>\n",
       "</table>\n",
       "<p>5 rows × 21 columns</p>\n",
       "</div>"
      ],
      "text/plain": [
       "     index  id_product  Region Country            Site  \\\n",
       "0   645874      156160  EUROPE      DE    NL_DC_Venray   \n",
       "1   469488      224631   CHINA      CN  CN_DC_Shanghai   \n",
       "2   348904      104047  EUROPE      GB       NL_DC_HLD   \n",
       "3  1725822       11823    EAJP      AU     AU_DC_Perth   \n",
       "4   404781      159924  EUROPE      ES       NL_DC_HLD   \n",
       "\n",
       "                 Operations            Zone         Cluster  Reference proxy  \\\n",
       "0         Europe Operations            DACH         Germany  reference-13523   \n",
       "1          China Operations      China & HK           China  reference-12778   \n",
       "2         Europe Operations  UK and Ireland  United Kingdom   reference-3513   \n",
       "3  International Operations         Pacific       Australia    reference-672   \n",
       "4         Europe Operations          Iberia           Spain   reference-3496   \n",
       "\n",
       "  Product  Line proxy  ...    Customer Persona proxy  \\\n",
       "0      Product Line-4  ...   Customer Segmentation-3   \n",
       "1      Product Line-4  ...  Customer Segmentation-14   \n",
       "2      Product Line-3  ...  Customer Segmentation-23   \n",
       "3      Product Line-1  ...  Customer Segmentation-11   \n",
       "4      Product Line-3  ...  Customer Segmentation-14   \n",
       "\n",
       "  Strategic Product Family proxy Product Life cycel status          Date  \\\n",
       "0    Strategic Product Family-12                       NaN  may-aug 2021   \n",
       "1     Strategic Product Family-9                       NaN  jan-apr 2021   \n",
       "2     Strategic Product Family-7                       NaN  jan-apr 2021   \n",
       "3     Strategic Product Family-3                       NaN  jan-apr 2023   \n",
       "4     Strategic Product Family-7                       NaN  jan-apr 2021   \n",
       "\n",
       "  Month 1 Month 2 Month 3 Month 4    Date_in   Date_fin  \n",
       "0       0       0       0       0 2021-05-01 2021-08-01  \n",
       "1       0       1       0       0 2021-01-01 2021-04-01  \n",
       "2       0       2       0       0 2021-01-01 2021-04-01  \n",
       "3       0       0       0       0 2023-01-01 2023-04-01  \n",
       "4       0       0       0       0 2021-01-01 2021-04-01  \n",
       "\n",
       "[5 rows x 21 columns]"
      ]
     },
     "execution_count": 17,
     "metadata": {},
     "output_type": "execute_result"
    }
   ],
   "source": [
    "df.head()"
   ]
  }
 ],
 "metadata": {
  "kernelspec": {
   "display_name": "Python 3 (ipykernel)",
   "language": "python",
   "name": "python3"
  },
  "language_info": {
   "codemirror_mode": {
    "name": "ipython",
    "version": 3
   },
   "file_extension": ".py",
   "mimetype": "text/x-python",
   "name": "python",
   "nbconvert_exporter": "python",
   "pygments_lexer": "ipython3",
   "version": "3.8.3"
  }
 },
 "nbformat": 4,
 "nbformat_minor": 5
}
