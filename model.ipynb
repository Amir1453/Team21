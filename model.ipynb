{
 "cells": [
  {
   "cell_type": "code",
   "execution_count": 32,
   "id": "e3309500",
   "metadata": {},
   "outputs": [],
   "source": [
    "## Common python packages\n",
    "import numpy as np\n",
    "import pandas as pd\n",
    "\n",
    "## For plotting\n",
    "import matplotlib.pyplot as plt\n",
    "from matplotlib import rcParams\n",
    "%matplotlib inline\n",
    "import seaborn as sns\n",
    "sns.set_style(\"white\")\n",
    "sns.set_context(\"notebook\")\n",
    "sns.set_color_codes()\n",
    "\n",
    "## sklearn - ML tools\n",
    "from sklearn.model_selection import train_test_split, GridSearchCV\n",
    "from sklearn.metrics import accuracy_score, confusion_matrix, ConfusionMatrixDisplay, roc_curve, auc, precision_recall_curve\n",
    "from sklearn.utils import resample, shuffle\n",
    "\n",
    "from xgboost.sklearn import XGBClassifier\n",
    "import xgboost as xgb\n",
    "from xgboost import \n",
    "from catboost import CatBoostRegressor\n",
    "\n",
    "## weighted stats\n",
    "from statsmodels.stats.weightstats import DescrStatsW\n",
    "\n",
    "## \"-\" sign for graphs\n",
    "rcParams['axes.unicode_minus'] = False\n",
    "\n",
    "## Some extra styling\n",
    "def namestr(obj, namespace = globals()):\n",
    "    \"Prints the name of a variable\"\n",
    "    return [name for name in namespace if namespace[name] is obj][0]\n",
    "\n",
    "## For time\n",
    "from dateutil.relativedelta import relativedelta\n",
    "\n",
    "## For country encoding\n",
    "from dataprep.clean import clean_country"
   ]
  },
  {
   "cell_type": "code",
   "execution_count": 2,
   "id": "b0d97118",
   "metadata": {},
   "outputs": [],
   "source": [
    "## Univar Tools\n",
    "def data_stats(df, cols = None):\n",
    "    cols = df.columns if cols is None else cols\n",
    "    return pd.DataFrame({\"Mean\": df[cols].mean, \"Med\": df[cols].median(), \"STD\": df[cols].std, \n",
    "                         \"Min\": df[cols].min(), \"Max\": df[cols].max()})\n",
    "              \n",
    "def hist_plotter(df, cols = None, range_x = None, n_std = 1, size = None, nbin = 100):\n",
    "    cols = df.select_dtypes(include=np.number).columns if cols is None else cols\n",
    "    for col in cols:\n",
    "        range_ = [df[col].min() + n_std * df[col].std(), df[col].max() - n_std * df[col].std()] if range_x is None else range_x\n",
    "        fig, ax = plt.subplots(1,1)\n",
    "        df[col].plot(kind = \"hist\", range = range_, edgecolor = \"blue\", alpha = 1, bins = nbin, density = 1, ax = ax, figsize = size)\n",
    "        plt.xlabel(col)\n",
    "        plt.show()\n",
    "    \n",
    "def box_plotter(df, cols = None):\n",
    "    cols = df.columns if cols is None else cols\n",
    "    fig, ax = plt.subplots(1, 1)\n",
    "    df[cols].boxplot(ax=ax)\n",
    "    plt.xticks(rotation = 90)\n",
    "    plt.show()"
   ]
  },
  {
   "cell_type": "code",
   "execution_count": 3,
   "id": "d0dc0830",
   "metadata": {},
   "outputs": [],
   "source": [
    "## Bivar Tools\n",
    "def data_corr(df, size = None, cols = None):\n",
    "    cols = df.columns if cols is None else cols \n",
    "    size = (len(cols), len(cols)) if size is None else size\n",
    "    plt.figure(figsize = size)\n",
    "    sns.heatmap(df.corr(), cmap = \"coolwarm\", square = True, vmin = -1, vmax = 1, annot=True)\n",
    "    plt.show()"
   ]
  },
  {
   "cell_type": "code",
   "execution_count": 4,
   "id": "1b4bbc6f",
   "metadata": {},
   "outputs": [],
   "source": [
    "month_lib = {\n",
    "    \"jan\": 0,\n",
    "    \"feb\": 1,    \n",
    "    \"mar\": 2,\n",
    "    \"apr\": 3,    \n",
    "    \"may\": 4,\n",
    "    \"jun\": 5,    \n",
    "    \"jul\": 6,\n",
    "    \"aug\": 7,    \n",
    "    \"sep\": 8,\n",
    "    \"oct\": 9,    \n",
    "    \"nov\": 10,\n",
    "    \"dec\": 11\n",
    "}"
   ]
  },
  {
   "cell_type": "code",
   "execution_count": 5,
   "id": "646c43e6",
   "metadata": {},
   "outputs": [],
   "source": [
    "df = pd.read_csv(\"datasets_hi4/train-data.csv\", sep=\";\")\n",
    "df_GSCPI = pd.read_csv(\"datasets_hi4/extra-dataset/GSCPI_data.csv\")\n",
    "df_LPI = pd.read_csv(\"datasets_hi4/extra-dataset/LPIextend.csv\")\n",
    "df_econ = pd.read_csv(\"datasets_hi4/extra-dataset/worldbank_economic_data.csv\")\n",
    "df_inf = pd.read_csv(\"datasets_hi4/extra-dataset/worldbank_inflation_data.csv\")"
   ]
  },
  {
   "cell_type": "code",
   "execution_count": 6,
   "id": "4aaf6cfd",
   "metadata": {
    "scrolled": false
   },
   "outputs": [],
   "source": [
    "date = df[\"Date\"].str.split(n=1, expand=True)\n",
    "df[\"Year\"] = date[1]\n",
    "df[\"Trisem\"] = pd.to_numeric(date[0].str.slice(stop=3).replace(month_lib))//3\n",
    "df[\"Trisem\"] = df[\"Trisem\"].astype(str)"
   ]
  },
  {
   "cell_type": "code",
   "execution_count": 7,
   "id": "825d4ab1",
   "metadata": {},
   "outputs": [],
   "source": [
    "df.drop_duplicates(inplace=True)"
   ]
  },
  {
   "cell_type": "code",
   "execution_count": 8,
   "id": "f40c660f",
   "metadata": {},
   "outputs": [],
   "source": [
    "for col in [\"Month 1\", \"Month 2\", \"Month 3\", \"Month 4\"]:\n",
    "    df[col] = pd.to_numeric(df[col].str.replace(\" \", \"\"))"
   ]
  },
  {
   "cell_type": "code",
   "execution_count": 9,
   "id": "8836c1bc",
   "metadata": {
    "scrolled": true
   },
   "outputs": [
    {
     "data": {
      "text/html": [
       "<div>\n",
       "<style scoped>\n",
       "    .dataframe tbody tr th:only-of-type {\n",
       "        vertical-align: middle;\n",
       "    }\n",
       "\n",
       "    .dataframe tbody tr th {\n",
       "        vertical-align: top;\n",
       "    }\n",
       "\n",
       "    .dataframe thead th {\n",
       "        text-align: right;\n",
       "    }\n",
       "</style>\n",
       "<table border=\"1\" class=\"dataframe\">\n",
       "  <thead>\n",
       "    <tr style=\"text-align: right;\">\n",
       "      <th></th>\n",
       "      <th>Year-Month</th>\n",
       "      <th>GSCPI</th>\n",
       "      <th>Year</th>\n",
       "      <th>Trisem</th>\n",
       "    </tr>\n",
       "  </thead>\n",
       "  <tbody>\n",
       "    <tr>\n",
       "      <th>0</th>\n",
       "      <td>2020-01</td>\n",
       "      <td>0.090108</td>\n",
       "      <td>2020</td>\n",
       "      <td>0</td>\n",
       "    </tr>\n",
       "    <tr>\n",
       "      <th>1</th>\n",
       "      <td>2020-02</td>\n",
       "      <td>1.191976</td>\n",
       "      <td>2020</td>\n",
       "      <td>0</td>\n",
       "    </tr>\n",
       "    <tr>\n",
       "      <th>2</th>\n",
       "      <td>2020-03</td>\n",
       "      <td>2.546002</td>\n",
       "      <td>2020</td>\n",
       "      <td>1</td>\n",
       "    </tr>\n",
       "    <tr>\n",
       "      <th>3</th>\n",
       "      <td>2020-04</td>\n",
       "      <td>3.161703</td>\n",
       "      <td>2020</td>\n",
       "      <td>1</td>\n",
       "    </tr>\n",
       "    <tr>\n",
       "      <th>4</th>\n",
       "      <td>2020-05</td>\n",
       "      <td>2.537110</td>\n",
       "      <td>2020</td>\n",
       "      <td>1</td>\n",
       "    </tr>\n",
       "  </tbody>\n",
       "</table>\n",
       "</div>"
      ],
      "text/plain": [
       "  Year-Month     GSCPI  Year Trisem\n",
       "0    2020-01  0.090108  2020      0\n",
       "1    2020-02  1.191976  2020      0\n",
       "2    2020-03  2.546002  2020      1\n",
       "3    2020-04  3.161703  2020      1\n",
       "4    2020-05  2.537110  2020      1"
      ]
     },
     "execution_count": 9,
     "metadata": {},
     "output_type": "execute_result"
    }
   ],
   "source": [
    "df_GSCPI[\"Year\"] = df_GSCPI[\"Year-Month\"].str.slice(stop=4)\n",
    "df_GSCPI[\"Trisem\"] = pd.to_numeric(df_GSCPI[\"Year-Month\"].str.slice(start=5))//3\n",
    "df_GSCPI[\"Trisem\"] = df_GSCPI[\"Trisem\"].astype(str)\n",
    "df_GSCPI.head()"
   ]
  },
  {
   "cell_type": "code",
   "execution_count": 10,
   "id": "8bca64d2",
   "metadata": {},
   "outputs": [],
   "source": [
    "df_GSCPI = df_GSCPI.groupby([\"Year\", \"Trisem\"], as_index=False)[\"GSCPI\"].mean()"
   ]
  },
  {
   "cell_type": "code",
   "execution_count": 11,
   "id": "cbc09a7b",
   "metadata": {},
   "outputs": [],
   "source": [
    "mdf_c = pd.merge(df, df_GSCPI, on=[\"Year\", \"Trisem\"])"
   ]
  },
  {
   "cell_type": "code",
   "execution_count": 12,
   "id": "1b8c3ed1",
   "metadata": {
    "scrolled": true
   },
   "outputs": [
    {
     "name": "stderr",
     "output_type": "stream",
     "text": [
      "/home/alper/anaconda3/lib/python3.8/site-packages/dask/dataframe/core.py:6597: FutureWarning: Meta is not valid, `map_partitions` and `map_overlap` expects output to be a pandas object. Try passing a pandas object as meta or a dict or tuple representing the (name, dtype) of the columns. In the future the meta you passed will not work.\n",
      "  warnings.warn(\n"
     ]
    },
    {
     "data": {
      "application/vnd.jupyter.widget-view+json": {
       "model_id": "",
       "version_major": 2,
       "version_minor": 0
      },
      "text/plain": [
       "  0%|                                                     | 0/8 [00:00<?, ?it/s]"
      ]
     },
     "metadata": {},
     "output_type": "display_data"
    },
    {
     "name": "stdout",
     "output_type": "stream",
     "text": [
      "Country Cleaning Report:\n",
      "\t248 values cleaned (99.2%)\n",
      "\t2 values unable to be parsed (0.8%), set to NaN\n",
      "Result contains 248 (99.2%) values in the correct format and 2 null values (0.8%)\n"
     ]
    }
   ],
   "source": [
    "cols = []\n",
    "for col in df_LPI.columns:\n",
    "    if \"Score\" in col:\n",
    "            cols.append(col)\n",
    "            \n",
    "df_LPI[\"LogPerf\"] = df_LPI[cols].mean(axis=1)\n",
    "df_LPI = clean_country(df_LPI, \"Country\", output_format=\"alpha-2\", inplace=True)\n",
    "df_LPI = df_LPI[[\"Country_clean\", \"LogPerf\"]].rename(columns={\"Country_clean\": \"Country\"}) "
   ]
  },
  {
   "cell_type": "code",
   "execution_count": 13,
   "id": "7ff634f3",
   "metadata": {},
   "outputs": [],
   "source": [
    "mdf = pd.merge(mdf_c, df_LPI, on = \"Country\")"
   ]
  },
  {
   "cell_type": "code",
   "execution_count": 15,
   "id": "801ea77a",
   "metadata": {},
   "outputs": [
    {
     "name": "stderr",
     "output_type": "stream",
     "text": [
      "/home/alper/anaconda3/lib/python3.8/site-packages/dask/dataframe/core.py:6597: FutureWarning: Meta is not valid, `map_partitions` and `map_overlap` expects output to be a pandas object. Try passing a pandas object as meta or a dict or tuple representing the (name, dtype) of the columns. In the future the meta you passed will not work.\n",
      "  warnings.warn(\n"
     ]
    },
    {
     "data": {
      "application/vnd.jupyter.widget-view+json": {
       "model_id": "",
       "version_major": 2,
       "version_minor": 0
      },
      "text/plain": [
       "  0%|                                                     | 0/8 [00:00<?, ?it/s]"
      ]
     },
     "metadata": {},
     "output_type": "display_data"
    },
    {
     "name": "stdout",
     "output_type": "stream",
     "text": [
      "Country Cleaning Report:\n",
      "\t8041 values cleaned (98.94%)\n",
      "\t86 values unable to be parsed (1.06%), set to NaN\n",
      "Result contains 8041 (98.94%) values in the correct format and 86 null values (1.06%)\n"
     ]
    },
    {
     "name": "stderr",
     "output_type": "stream",
     "text": [
      "/tmp/ipykernel_33616/1381205224.py:11: FutureWarning: Indexing with multiple keys (implicitly converted to a tuple of keys) will be deprecated, use a list instead.\n",
      "  dfi_grouped = df_inf.groupby([\"Year\", \"Trisem\", \"Country\"])[\"Energy Price Index\", \"Headline Consumer Price Index\"].mean()\n"
     ]
    }
   ],
   "source": [
    "inf_years = np.array(list(map(lambda x: x.split('-')[0], df_inf[\"Year-Month\"].to_list())))\n",
    "inf_months = np.array(list(map(lambda x: int(x.split('-')[1]), df_inf[\"Year-Month\"].to_list())))\n",
    "\n",
    "df_inf[\"Year\"] = inf_years\n",
    "df_inf[\"Trisem\"] = list(map(str, (inf_months - 1)//4))\n",
    "\n",
    "df_inf =  clean_country(df_inf, \"Country\", output_format=\"alpha-2\").dropna(subset = \"Country\")\n",
    "df_inf.drop(columns = ['Country', 'Year-Month'], inplace = True)\n",
    "df_inf.rename(columns = {\"Country_clean\": \"Country\"}, inplace = True)\n",
    "\n",
    "dfi_grouped = df_inf.groupby([\"Year\", \"Trisem\", \"Country\"])[\"Energy Price Index\", \"Headline Consumer Price Index\"].mean()"
   ]
  },
  {
   "cell_type": "code",
   "execution_count": 17,
   "id": "fa63fdae",
   "metadata": {},
   "outputs": [],
   "source": [
    "mdf2 = pd.merge(mdf, dfi_grouped, how = \"left\", on = [\"Year\", \"Trisem\", \"Country\"])"
   ]
  },
  {
   "cell_type": "code",
   "execution_count": 18,
   "id": "444a6372",
   "metadata": {},
   "outputs": [],
   "source": [
    "X_test = pd.read_csv(\"datasets_hi4/X_test.csv\", sep=\";\")\n",
    "y_test = pd.read_csv(\"datasets_hi4/y_test_example.csv\", sep=\";\")"
   ]
  },
  {
   "cell_type": "code",
   "execution_count": 24,
   "id": "20d1b75d",
   "metadata": {},
   "outputs": [],
   "source": [
    "date = X_test[\"Date\"].str.split(n=1, expand=True)\n",
    "X_test[\"Year\"] = date[1]\n",
    "X_test[\"Trisem\"] = pd.to_numeric(date[0].str.slice(stop=3).replace(month_lib))//3\n",
    "X_test[\"Trisem\"] = X_test[\"Trisem\"].astype(str)"
   ]
  },
  {
   "cell_type": "code",
   "execution_count": 25,
   "id": "86fb3a2d",
   "metadata": {},
   "outputs": [],
   "source": [
    "mdf_test = pd.merge(X_test, df_GSCPI, on=[\"Year\", \"Trisem\"])\n",
    "mdff_test = pd.merge(mdf_test, df_LPI, on = \"Country\")\n",
    "mX_test = pd.merge(mdff_test, dfi_grouped, how = \"left\", on = [\"Year\", \"Trisem\", \"Country\"])"
   ]
  },
  {
   "cell_type": "code",
   "execution_count": 26,
   "id": "4688afdf",
   "metadata": {},
   "outputs": [],
   "source": [
    "X_train = mdf2.drop(columns = [\"Month 4\"])\n",
    "y_train = mdf2[\"Month 4\"]"
   ]
  },
  {
   "cell_type": "code",
   "execution_count": 43,
   "id": "41812c66",
   "metadata": {},
   "outputs": [],
   "source": [
    "#model_cbr = CatBoostRegressor()"
   ]
  },
  {
   "cell_type": "code",
   "execution_count": 45,
   "id": "889b5151",
   "metadata": {},
   "outputs": [],
   "source": [
    "#model_cbr.fit(X_train, y_train)"
   ]
  },
  {
   "cell_type": "code",
   "execution_count": null,
   "id": "22442aba",
   "metadata": {},
   "outputs": [],
   "source": [
    "#model_xgb = xgb.train(dtrain, params = {})"
   ]
  }
 ],
 "metadata": {
  "kernelspec": {
   "display_name": "Python 3 (ipykernel)",
   "language": "python",
   "name": "python3"
  },
  "language_info": {
   "codemirror_mode": {
    "name": "ipython",
    "version": 3
   },
   "file_extension": ".py",
   "mimetype": "text/x-python",
   "name": "python",
   "nbconvert_exporter": "python",
   "pygments_lexer": "ipython3",
   "version": "3.8.3"
  }
 },
 "nbformat": 4,
 "nbformat_minor": 5
}
