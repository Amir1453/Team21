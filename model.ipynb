{
 "cells": [
  {
   "cell_type": "markdown",
   "id": "989d0103",
   "metadata": {},
   "source": [
    "### Importing Libraries"
   ]
  },
  {
   "cell_type": "code",
   "execution_count": 1,
   "id": "e3309500",
   "metadata": {},
   "outputs": [],
   "source": [
    "## Common python packages\n",
    "import numpy as np\n",
    "import pandas as pd\n",
    "\n",
    "## For plotting\n",
    "import matplotlib.pyplot as plt\n",
    "from matplotlib import rcParams\n",
    "%matplotlib inline\n",
    "import seaborn as sns\n",
    "sns.set_style(\"white\")\n",
    "sns.set_context(\"notebook\")\n",
    "sns.set_color_codes()\n",
    "\n",
    "## sklearn - ML tools\n",
    "from sklearn.model_selection import train_test_split, GridSearchCV\n",
    "from sklearn.metrics import accuracy_score, confusion_matrix, ConfusionMatrixDisplay, roc_curve, auc, precision_recall_curve\n",
    "from sklearn.utils import resample, shuffle\n",
    "from sklearn.preprocessing import OneHotEncoder\n",
    "\n",
    "from xgboost.sklearn import XGBClassifier\n",
    "import xgboost as xgb\n",
    "from xgboost import XGBRegressor\n",
    "from catboost import CatBoostRegressor, Pool\n",
    "\n",
    "## weighted stats\n",
    "from statsmodels.stats.weightstats import DescrStatsW\n",
    "\n",
    "## \"-\" sign for graphs\n",
    "rcParams['axes.unicode_minus'] = False\n",
    "\n",
    "## Some extra styling\n",
    "def namestr(obj, namespace = globals()):\n",
    "    \"Prints the name of a variable\"\n",
    "    return [name for name in namespace if namespace[name] is obj][0]\n",
    "\n",
    "## For time\n",
    "from dateutil.relativedelta import relativedelta\n",
    "\n",
    "## For country encoding\n",
    "from dataprep.clean import clean_country"
   ]
  },
  {
   "cell_type": "markdown",
   "id": "2f92985b",
   "metadata": {},
   "source": [
    "### Preliminary tools for data analysis"
   ]
  },
  {
   "cell_type": "code",
   "execution_count": 2,
   "id": "b0d97118",
   "metadata": {},
   "outputs": [],
   "source": [
    "## Univar Tools\n",
    "def data_stats(df, cols = None):\n",
    "    cols = df.columns if cols is None else cols\n",
    "    return pd.DataFrame({\"Mean\": df[cols].mean, \"Med\": df[cols].median(), \"STD\": df[cols].std, \n",
    "                         \"Min\": df[cols].min(), \"Max\": df[cols].max()})\n",
    "              \n",
    "def hist_plotter(df, cols = None, range_x = None, n_std = 1, size = None, nbin = 100):\n",
    "    cols = df.select_dtypes(include=np.number).columns if cols is None else cols\n",
    "    for col in cols:\n",
    "        range_ = [df[col].min() + n_std * df[col].std(), df[col].max() - n_std * df[col].std()] if range_x is None else range_x\n",
    "        fig, ax = plt.subplots(1,1)\n",
    "        df[col].plot(kind = \"hist\", range = range_, edgecolor = \"blue\", alpha = 1, bins = nbin, density = 1, ax = ax, figsize = size)\n",
    "        plt.xlabel(col)\n",
    "        plt.show()\n",
    "    \n",
    "def box_plotter(df, cols = None):\n",
    "    cols = df.columns if cols is None else cols\n",
    "    fig, ax = plt.subplots(1, 1)\n",
    "    df[cols].boxplot(ax=ax)\n",
    "    plt.xticks(rotation = 90)\n",
    "    plt.show()\n",
    "    \n",
    "## Bivar Tools\n",
    "def data_corr(df, size = None, cols = None):\n",
    "    cols = df.columns if cols is None else cols \n",
    "    size = (len(cols), len(cols)) if size is None else size\n",
    "    plt.figure(figsize = size)\n",
    "    sns.heatmap(df.corr(), cmap = \"coolwarm\", square = True, vmin = -1, vmax = 1, annot=True)\n",
    "    plt.show()\n",
    "        \n",
    "## For date conversion\n",
    "month_lib = {\n",
    "    \"jan\": 0,\n",
    "    \"feb\": 1,    \n",
    "    \"mar\": 2,\n",
    "    \"apr\": 3,    \n",
    "    \"may\": 4,\n",
    "    \"jun\": 5,    \n",
    "    \"jul\": 6,\n",
    "    \"aug\": 7,    \n",
    "    \"sep\": 8,\n",
    "    \"oct\": 9,    \n",
    "    \"nov\": 10,\n",
    "    \"dec\": 11\n",
    "}"
   ]
  },
  {
   "cell_type": "markdown",
   "id": "b949b075",
   "metadata": {},
   "source": [
    "### Processing the train data"
   ]
  },
  {
   "cell_type": "code",
   "execution_count": 3,
   "id": "3220002f",
   "metadata": {
    "scrolled": false
   },
   "outputs": [],
   "source": [
    "df = pd.read_csv(\"datasets_hi4/train-data.csv\", sep=\";\")\n",
    "\n",
    "df[\"Country\"] = df[\"Country\"].str.upper()\n",
    "\n",
    "date = df[\"Date\"].str.split(n=1, expand=True)\n",
    "df[\"Year\"] = date[1]\n",
    "df[\"Trisem\"] = pd.to_numeric(date[0].str.slice(stop=3).replace(month_lib))//3\n",
    "df[\"Trisem\"] = df[\"Trisem\"].astype(str)\n",
    "\n",
    "df.drop_duplicates(inplace=True)\n",
    "\n",
    "for col in [\"Month 1\", \"Month 2\", \"Month 3\", \"Month 4\"]:\n",
    "    df[col] = pd.to_numeric(df[col].str.replace(\" \", \"\"))\n",
    "       \n",
    "#df['Month 1'] = df.groupby('Strategic Product Family proxy')['Month 1'].transform(lambda x: x.fillna(x.mean()))\n",
    "df[\"Product Life cycel status\"] = df[\"Product Life cycel status\"].fillna(\"ACT\")"
   ]
  },
  {
   "cell_type": "markdown",
   "id": "aad56127",
   "metadata": {},
   "source": [
    "### Processing Additional Data"
   ]
  },
  {
   "cell_type": "markdown",
   "id": "ed356bdd",
   "metadata": {},
   "source": [
    "#### GSCPI"
   ]
  },
  {
   "cell_type": "code",
   "execution_count": 4,
   "id": "b03dbf51",
   "metadata": {},
   "outputs": [
    {
     "name": "stdout",
     "output_type": "stream",
     "text": [
      "(43, 2)\n",
      "(18, 3)\n"
     ]
    }
   ],
   "source": [
    "df_GSCPI = pd.read_csv(\"datasets_hi4/extra-dataset/GSCPI_data.csv\")\n",
    "\n",
    "print(df_GSCPI.shape)\n",
    "\n",
    "df_GSCPI[\"Year\"] = df_GSCPI[\"Year-Month\"].str.slice(stop=4)\n",
    "df_GSCPI[\"Trisem\"] = pd.to_numeric(df_GSCPI[\"Year-Month\"].str.slice(start=5))//3\n",
    "df_GSCPI[\"Trisem\"] = df_GSCPI[\"Trisem\"].astype(str)\n",
    "\n",
    "df_GSCPI = df_GSCPI.groupby([\"Year\", \"Trisem\"], as_index=False)[\"GSCPI\"].mean()\n",
    "\n",
    "print(df_GSCPI.shape)"
   ]
  },
  {
   "cell_type": "markdown",
   "id": "a15c6745",
   "metadata": {},
   "source": [
    "#### LPI"
   ]
  },
  {
   "cell_type": "code",
   "execution_count": 5,
   "id": "8bfb178a",
   "metadata": {
    "scrolled": true
   },
   "outputs": [
    {
     "name": "stderr",
     "output_type": "stream",
     "text": [
      "C:\\Users\\alper\\anaconda3\\Lib\\site-packages\\dask\\dataframe\\core.py:7067: FutureWarning: Meta is not valid, `map_partitions` and `map_overlap` expects output to be a pandas object. Try passing a pandas object as meta or a dict or tuple representing the (name, dtype) of the columns. In the future the meta you passed will not work.\n",
      "  warnings.warn(\n"
     ]
    },
    {
     "data": {
      "application/vnd.jupyter.widget-view+json": {
       "model_id": "",
       "version_major": 2,
       "version_minor": 0
      },
      "text/plain": [
       "  0%|                                                                                            | 0/8 [00:00<…"
      ]
     },
     "metadata": {},
     "output_type": "display_data"
    },
    {
     "name": "stdout",
     "output_type": "stream",
     "text": [
      "Country Cleaning Report:\n",
      "\t249 values cleaned (99.6%)\n",
      "\t1 values unable to be parsed (0.4%), set to NaN\n",
      "Result contains 249 (99.6%) values in the correct format and 1 null values (0.4%)\n"
     ]
    }
   ],
   "source": [
    "df_LPI = pd.read_csv(\"datasets_hi4/extra-dataset/LPIextend.csv\")\n",
    "\n",
    "cols = []\n",
    "for col in df_LPI.columns:\n",
    "    if \"Score\" in col:\n",
    "            cols.append(col)\n",
    "            \n",
    "df_LPI[\"LogPerf\"] = df_LPI[cols].mean(axis=1)\n",
    "df_LPI = df_LPI.replace('TC<rkiye',\"Turkey\")\n",
    "df_LPI = clean_country(df_LPI, \"Country\", output_format=\"alpha-2\", inplace=True)\n",
    "df_LPI[\"Country_clean\"] = df_LPI[\"Country_clean\"].fillna('NA')\n",
    "\n",
    "df_LPI = df_LPI[[\"Country_clean\", \"LogPerf\"]].rename(columns={\"Country_clean\": \"Country\"}) \n",
    "df_LPI[\"LogPerf\"] = df_LPI[\"LogPerf\"].transform(lambda x: x.fillna(x.mean() - (1/5) * x.std()))\n",
    "\n",
    "df_LPI = df_LPI.drop_duplicates(subset = [\"Country\"])"
   ]
  },
  {
   "cell_type": "markdown",
   "id": "61450083",
   "metadata": {},
   "source": [
    "#### Infilation Data (Later Dropped)"
   ]
  },
  {
   "cell_type": "code",
   "execution_count": 6,
   "id": "f5ab7039",
   "metadata": {
    "scrolled": true
   },
   "outputs": [
    {
     "name": "stderr",
     "output_type": "stream",
     "text": [
      "C:\\Users\\alper\\anaconda3\\Lib\\site-packages\\dask\\dataframe\\core.py:7067: FutureWarning: Meta is not valid, `map_partitions` and `map_overlap` expects output to be a pandas object. Try passing a pandas object as meta or a dict or tuple representing the (name, dtype) of the columns. In the future the meta you passed will not work.\n",
      "  warnings.warn(\n"
     ]
    },
    {
     "data": {
      "application/vnd.jupyter.widget-view+json": {
       "model_id": "",
       "version_major": 2,
       "version_minor": 0
      },
      "text/plain": [
       "  0%|                                                                                            | 0/8 [00:00<…"
      ]
     },
     "metadata": {},
     "output_type": "display_data"
    },
    {
     "name": "stdout",
     "output_type": "stream",
     "text": [
      "Country Cleaning Report:\n",
      "\t8084 values cleaned (99.47%)\n",
      "\t43 values unable to be parsed (0.53%), set to NaN\n",
      "Result contains 8084 (99.47%) values in the correct format and 43 null values (0.53%)\n"
     ]
    },
    {
     "name": "stderr",
     "output_type": "stream",
     "text": [
      "C:\\Users\\alper\\AppData\\Local\\Temp\\ipykernel_3288\\2549750652.py:18: FutureWarning: Indexing with multiple keys (implicitly converted to a tuple of keys) will be deprecated, use a list instead.\n",
      "  dfi_grouped = df_inf.groupby([\"Year\", \"Trisem\", \"Country\"])[\"Energy Price Index\", \"Headline Consumer Price Index\"].mean()\n"
     ]
    }
   ],
   "source": [
    "df_inf = pd.read_csv(\"datasets_hi4/extra-dataset/worldbank_inflation_data.csv\")\n",
    "\n",
    "inf_years = np.array(list(map(lambda x: x.split('-')[0], df_inf[\"Year-Month\"].to_list())))\n",
    "inf_months = np.array(list(map(lambda x: int(x.split('-')[1]), df_inf[\"Year-Month\"].to_list())))\n",
    "\n",
    "df_inf[\"Year\"] = inf_years\n",
    "df_inf[\"Trisem\"] = list(map(str, (inf_months - 1)//4))\n",
    "\n",
    "df_inf = df_inf.replace('SÃ£o TomÃ© and Principe',\"Sao Tome and Principe\")\n",
    "df_inf = clean_country(df_inf, \"Country\", output_format=\"alpha-2\")\n",
    "df_inf.drop(columns = ['Country', 'Year-Month'], inplace = True)\n",
    "df_inf.rename(columns = {\"Country_clean\": \"Country\"}, inplace = True)\n",
    "df_inf[\"Country\"] = df_inf[\"Country\"].fillna('NA')\n",
    "\n",
    "df_inf[\"Energy Price Index\"] = df_inf[\"Energy Price Index\"].transform(lambda x: x.fillna(x.mean()))\n",
    "df_inf[\"Headline Consumer Price Index\"] = df_inf[\"Headline Consumer Price Index\"].transform(lambda x: x.fillna(x.mean()))\n",
    "\n",
    "dfi_grouped = df_inf.groupby([\"Year\", \"Trisem\", \"Country\"])[\"Energy Price Index\", \"Headline Consumer Price Index\"].mean()"
   ]
  },
  {
   "cell_type": "markdown",
   "id": "6a1cac44",
   "metadata": {},
   "source": [
    "#### CO2 (EPI) Data"
   ]
  },
  {
   "cell_type": "code",
   "execution_count": 7,
   "id": "3d54c7d2",
   "metadata": {},
   "outputs": [
    {
     "name": "stderr",
     "output_type": "stream",
     "text": [
      "C:\\Users\\alper\\anaconda3\\Lib\\site-packages\\dask\\dataframe\\core.py:7067: FutureWarning: Meta is not valid, `map_partitions` and `map_overlap` expects output to be a pandas object. Try passing a pandas object as meta or a dict or tuple representing the (name, dtype) of the columns. In the future the meta you passed will not work.\n",
      "  warnings.warn(\n"
     ]
    },
    {
     "data": {
      "application/vnd.jupyter.widget-view+json": {
       "model_id": "",
       "version_major": 2,
       "version_minor": 0
      },
      "text/plain": [
       "  0%|                                                                                            | 0/8 [00:00<…"
      ]
     },
     "metadata": {},
     "output_type": "display_data"
    },
    {
     "name": "stdout",
     "output_type": "stream",
     "text": [
      "Country Cleaning Report:\n",
      "\t179 values cleaned (99.44%)\n",
      "\t1 values unable to be parsed (0.56%), set to NaN\n",
      "Result contains 179 (99.44%) values in the correct format and 1 null values (0.56%)\n"
     ]
    }
   ],
   "source": [
    "df_epi = pd.read_csv(\"datasets_hi4/extra-dataset/epi2022results05302022.csv\")\n",
    "\n",
    "df_epi = clean_country(df_epi, \"country\", output_format=\"alpha-2\", inplace=True)\n",
    "df_epi = df_epi[[\"country_clean\", \"SDA.new\", \"NXA.new\", \"CDA.new\", \"CHA.new\", \"NDA.new\",\n",
    "                 \"BCA.new\", \"GIB.new\", \"GHP.new\"]]\n",
    "df_epi = df_epi.rename(columns = {\"country_clean\": \"Country\"})\n",
    "df_epi[\"EmAv\"] = df_epi[[\"NXA.new\", \"CDA.new\", \"SDA.new\", \"BCA.new\", \"NDA.new\"]].mean(axis=1)\n",
    "df_epi = df_epi.drop([\"NXA.new\",\"CDA.new\",\"SDA.new\",\"BCA.new\",\"NDA.new\"],axis=1)\n",
    "\n",
    "df_epi[\"Country\"] = df_epi[\"Country\"].fillna('NA')\n",
    "df_epi = df_epi.drop_duplicates(subset = [\"Country\"])"
   ]
  },
  {
   "cell_type": "markdown",
   "id": "28ee372a",
   "metadata": {},
   "source": [
    "#### Economic Data"
   ]
  },
  {
   "cell_type": "code",
   "execution_count": 8,
   "id": "2d13f13c",
   "metadata": {},
   "outputs": [
    {
     "name": "stderr",
     "output_type": "stream",
     "text": [
      "C:\\Users\\alper\\anaconda3\\Lib\\site-packages\\dask\\dataframe\\core.py:7067: FutureWarning: Meta is not valid, `map_partitions` and `map_overlap` expects output to be a pandas object. Try passing a pandas object as meta or a dict or tuple representing the (name, dtype) of the columns. In the future the meta you passed will not work.\n",
      "  warnings.warn(\n"
     ]
    },
    {
     "data": {
      "application/vnd.jupyter.widget-view+json": {
       "model_id": "",
       "version_major": 2,
       "version_minor": 0
      },
      "text/plain": [
       "  0%|                                                                                            | 0/8 [00:00<…"
      ]
     },
     "metadata": {},
     "output_type": "display_data"
    },
    {
     "name": "stdout",
     "output_type": "stream",
     "text": [
      "Country Cleaning Report:\n",
      "\t856 values cleaned (80.75%)\n",
      "\t204 values unable to be parsed (19.25%), set to NaN\n",
      "Result contains 856 (80.75%) values in the correct format and 204 null values (19.25%)\n"
     ]
    },
    {
     "name": "stderr",
     "output_type": "stream",
     "text": [
      "C:\\Users\\alper\\AppData\\Local\\Temp\\ipykernel_3288\\1679561745.py:28: FutureWarning: The frame.append method is deprecated and will be removed from pandas in a future version. Use pandas.concat instead.\n",
      "  df_econ = df_econ.append(TW_rows, ignore_index = True)\n"
     ]
    }
   ],
   "source": [
    "df_econ = pd.read_csv(\"datasets_hi4/extra-dataset/worldbank_economic_data.csv\")\n",
    "\n",
    "df_econ = df_econ[df_econ[\"Country\"].str.contains(\"Macao\")==False ]\n",
    "\n",
    "df_econ = df_econ.replace('Turkiye',\"Turkey\")\n",
    "df_econ = clean_country(df_econ, \"Country\", output_format=\"alpha-2\")\n",
    "df_econ = df_econ.dropna(subset = \"Country_clean\")\n",
    "df_econ.drop(columns = ['Country'], inplace = True)\n",
    "df_econ.rename(columns = {\"Country_clean\": \"Country\"}, inplace = True)\n",
    "\n",
    "df_econ[\"Year\"] = df_econ[\"Year\"].astype(str)\n",
    "\n",
    "df_econ = df_econ[['Country', \"Year\", \n",
    "                   'Final consumption expenditure (annual % growth)', \n",
    "                   'GDP (current US$)', \n",
    "                   'Imports of goods and services (annual % growth)']].drop_duplicates()\n",
    "\n",
    "df_econ[\"Final consumption expenditure (annual % growth)\"] = df_econ[\"Final consumption expenditure (annual % growth)\"].transform(lambda x: x.fillna(x.mean()))\n",
    "df_econ[\"Imports of goods and services (annual % growth)\"] = df_econ[\"Imports of goods and services (annual % growth)\"].transform(lambda x: x.fillna(x.mean()))\n",
    "df_econ[\"GDP (current US$)\"] = df_econ[\"GDP (current US$)\"].transform(lambda x: x.fillna(x.mean()))\n",
    "\n",
    "TW_rows = pd.DataFrame([[\"TW\", str(2020 + i), \n",
    "                         df_econ[\"Final consumption expenditure (annual % growth)\"].mean(), \n",
    "                         df_econ[\"GDP (current US$)\"].mean(),\n",
    "                         df_econ[\"Imports of goods and services (annual % growth)\"].mean()] for i in range(4)], \n",
    "                       columns = df_econ.columns)\n",
    "\n",
    "df_econ = df_econ.append(TW_rows, ignore_index = True)"
   ]
  },
  {
   "cell_type": "markdown",
   "id": "bdb85012",
   "metadata": {},
   "source": [
    "### Merging the data and creating train-test samples"
   ]
  },
  {
   "cell_type": "code",
   "execution_count": 9,
   "id": "66c948b8",
   "metadata": {},
   "outputs": [
    {
     "name": "stdout",
     "output_type": "stream",
     "text": [
      "(537408, 21)\n",
      "(537408, 22)\n",
      "(537408, 23)\n",
      "(537408, 27)\n",
      "(537408, 30)\n",
      "(537408, 30)\n"
     ]
    }
   ],
   "source": [
    "print(df.shape)\n",
    "mdf = pd.merge(df, df_GSCPI, how = \"left\", on=[\"Year\", \"Trisem\"])\n",
    "print(mdf.shape)\n",
    "mdf = pd.merge(mdf, df_LPI, how = \"left\", on =[\"Country\"])\n",
    "print(mdf.shape)\n",
    "mdf = pd.merge(mdf, df_epi, how = \"left\", on=[\"Country\"])\n",
    "print(mdf.shape)\n",
    "mdf = pd.merge(mdf, df_econ, how = \"left\", on = ['Country', 'Year'])\n",
    "print(mdf.shape)\n",
    "mdf_train = pd.merge(mdf, dfi_grouped, how = \"left\", on = [\"Year\", \"Trisem\", \"Country\"])\n",
    "print(mdf.shape)"
   ]
  },
  {
   "cell_type": "code",
   "execution_count": 10,
   "id": "9c0f682d",
   "metadata": {},
   "outputs": [],
   "source": [
    "dataX, datay = mdf_train.drop(columns = [\"Month 4\"]), mdf_train[\"Month 4\"]\n",
    "\n",
    "X_train, X_test, y_train, y_test = train_test_split(dataX, datay, test_size = .2)\n",
    "X_train['Month 1'] = X_train.groupby('Strategic Product Family proxy')['Month 1'].transform(lambda x: x.fillna(x.mean()))\n",
    "X_test['Month 1'] = X_test.groupby('Strategic Product Family proxy')['Month 1'].transform(lambda x: x.fillna(x.mean()))"
   ]
  },
  {
   "cell_type": "markdown",
   "id": "36dd1a7c",
   "metadata": {},
   "source": [
    "### One-hot Enc."
   ]
  },
  {
   "cell_type": "code",
   "execution_count": 11,
   "id": "61786ade",
   "metadata": {},
   "outputs": [],
   "source": [
    "var_onehot = [\"Region\",\"Product Life cycel status\",\"Product  Line proxy\",\"Year\",\"Trisem\"]\n",
    "onehot_df_train = X_train[var_onehot]\n",
    "onehot_df_test = X_test[var_onehot]\n",
    "onehot_enc = OneHotEncoder(handle_unknown=\"ignore\",sparse_output=False)\n",
    "\n",
    "onehot_enc.fit(onehot_df_train)\n",
    "onehot_features = onehot_enc.get_feature_names_out()\n",
    "\n",
    "onehot_df_train_t = pd.DataFrame(onehot_enc.transform(onehot_df_train).astype(\"int\"), columns=onehot_features)\n",
    "onehot_df_test_t = pd.DataFrame(onehot_enc.transform(onehot_df_test).astype(\"int\"), columns=onehot_features)"
   ]
  },
  {
   "cell_type": "code",
   "execution_count": 12,
   "id": "86d16ca9",
   "metadata": {},
   "outputs": [],
   "source": [
    "X_train_enc = pd.concat([X_train.drop(columns=var_onehot).reset_index(drop=True), onehot_df_train_t],axis=1)\n",
    "X_test_enc = pd.concat([X_test.drop(columns=var_onehot).reset_index(drop=True), onehot_df_test_t],axis=1)"
   ]
  },
  {
   "cell_type": "markdown",
   "id": "2e058f4d",
   "metadata": {},
   "source": [
    "### Column cuts for models"
   ]
  },
  {
   "cell_type": "code",
   "execution_count": 13,
   "id": "ca8f486f",
   "metadata": {},
   "outputs": [],
   "source": [
    "fitcols = [\n",
    "    'Month 1', 'Month 2', 'Month 3', \n",
    "    'GSCPI', 'LogPerf', \n",
    "    'CHA.new', 'GIB.new', 'GHP.new', 'EmAv',\n",
    "    'Final consumption expenditure (annual % growth)', 'GDP (current US$)', 'Imports of goods and services (annual % growth)', \n",
    "    'Region',\n",
    "    'Product Life cycel status',\n",
    "    'Product  Line proxy',\n",
    "    'Year', 'Trisem'\n",
    "]\n",
    "\n",
    "fitcols_enc = [\n",
    "    'Month 1', 'Month 2', 'Month 3', \n",
    "    'GSCPI', 'LogPerf', \n",
    "    'CHA.new', 'GIB.new', 'GHP.new', 'EmAv',\n",
    "    'Final consumption expenditure (annual % growth)', 'GDP (current US$)', 'Imports of goods and services (annual % growth)', \n",
    "    'Region_CHINA', 'Region_EAJP', 'Region_EUROPE', 'Region_NAM',\n",
    "    'Product Life cycel status_ACT', 'Product Life cycel status_EOL', 'Product Life cycel status_NPI', 'Product Life cycel status_RaMPDOWN',\n",
    "    'Product  Line proxy_Product Line-1', 'Product  Line proxy_Product Line-2', 'Product  Line proxy_Product Line-3', 'Product  Line proxy_Product Line-4', 'Product  Line proxy_Product Line-5', 'Product  Line proxy_Product Line-6', \n",
    "    'Year_2020', 'Year_2021', 'Year_2022', 'Year_2023', \n",
    "    'Trisem_0', 'Trisem_1', 'Trisem_2'\n",
    "]"
   ]
  },
  {
   "cell_type": "code",
   "execution_count": 14,
   "id": "9501a625",
   "metadata": {},
   "outputs": [],
   "source": [
    "X_train, X_test = X_train[fitcols], X_test[fitcols]\n",
    "X_train_enc, X_test_enc = X_train_enc[fitcols_enc], X_test_enc[fitcols_enc]"
   ]
  },
  {
   "cell_type": "markdown",
   "id": "9f603a5a",
   "metadata": {},
   "source": [
    "### Model Training"
   ]
  },
  {
   "cell_type": "markdown",
   "id": "d0402937",
   "metadata": {},
   "source": [
    "#### CatBoost"
   ]
  },
  {
   "cell_type": "code",
   "execution_count": 15,
   "id": "b048b91c",
   "metadata": {},
   "outputs": [],
   "source": [
    "p_train = Pool(X_train, y_train, \n",
    "               cat_features=['Region', 'Product Life cycel status', 'Product  Line proxy', 'Year', 'Trisem'])\n",
    "\n",
    "p_test = Pool(X_test, cat_features=['Region', 'Product Life cycel status', 'Product  Line proxy', 'Year', 'Trisem'])"
   ]
  },
  {
   "cell_type": "code",
   "execution_count": 16,
   "id": "9a8db8ec",
   "metadata": {},
   "outputs": [],
   "source": [
    "model_cbr = CatBoostRegressor(iterations=10)"
   ]
  },
  {
   "cell_type": "code",
   "execution_count": 17,
   "id": "fc25f19f",
   "metadata": {
    "scrolled": true
   },
   "outputs": [
    {
     "name": "stdout",
     "output_type": "stream",
     "text": [
      "Learning rate set to 0.5\n",
      "0:\tlearn: 603.5425351\ttotal: 213ms\tremaining: 1.92s\n",
      "1:\tlearn: 551.9546898\ttotal: 262ms\tremaining: 1.05s\n",
      "2:\tlearn: 509.6105327\ttotal: 305ms\tremaining: 713ms\n",
      "3:\tlearn: 480.0064049\ttotal: 367ms\tremaining: 551ms\n",
      "4:\tlearn: 461.6948264\ttotal: 422ms\tremaining: 422ms\n",
      "5:\tlearn: 442.3098435\ttotal: 478ms\tremaining: 318ms\n",
      "6:\tlearn: 428.9531341\ttotal: 533ms\tremaining: 228ms\n",
      "7:\tlearn: 407.7657789\ttotal: 586ms\tremaining: 146ms\n",
      "8:\tlearn: 399.8900633\ttotal: 636ms\tremaining: 70.6ms\n",
      "9:\tlearn: 394.6814413\ttotal: 687ms\tremaining: 0us\n"
     ]
    },
    {
     "data": {
      "text/plain": [
       "<catboost.core.CatBoostRegressor at 0x2e88dfe6790>"
      ]
     },
     "execution_count": 17,
     "metadata": {},
     "output_type": "execute_result"
    }
   ],
   "source": [
    "model_cbr.fit(p_train)"
   ]
  },
  {
   "cell_type": "code",
   "execution_count": 18,
   "id": "b2e7e17b",
   "metadata": {},
   "outputs": [
    {
     "name": "stdout",
     "output_type": "stream",
     "text": [
      "Score for CBR: 0.2585479223840069\n",
      "RMSE for CBR: 530.1299186543251\n"
     ]
    }
   ],
   "source": [
    "print(f\"Score for CBR: {model_cbr.score(X_test, y_test)}\")\n",
    "\n",
    "y_pred_cbr = model_cbr.predict(X_test)\n",
    "rmse_cbr = np.sqrt(((y_pred_cbr - y_test)**2).mean()) \n",
    "print(f\"RMSE for CBR: {rmse_cbr}\")"
   ]
  },
  {
   "cell_type": "markdown",
   "id": "399d8b75",
   "metadata": {},
   "source": [
    "#### XGBoost"
   ]
  },
  {
   "cell_type": "code",
   "execution_count": 19,
   "id": "acc3ad62",
   "metadata": {},
   "outputs": [],
   "source": [
    "model_xgbr = XGBRegressor(max_depth = 10, n_estimators = 500, verbose = 2)"
   ]
  },
  {
   "cell_type": "code",
   "execution_count": 20,
   "id": "ed8d4e87",
   "metadata": {},
   "outputs": [
    {
     "name": "stdout",
     "output_type": "stream",
     "text": [
      "[07:46:04] WARNING: C:\\Users\\dev-admin\\croot2\\xgboost-split_1675461376218\\work\\src\\learner.cc:767: \n",
      "Parameters: { \"verbose\" } are not used.\n",
      "\n"
     ]
    },
    {
     "data": {
      "text/html": [
       "<style>#sk-container-id-1 {color: black;}#sk-container-id-1 pre{padding: 0;}#sk-container-id-1 div.sk-toggleable {background-color: white;}#sk-container-id-1 label.sk-toggleable__label {cursor: pointer;display: block;width: 100%;margin-bottom: 0;padding: 0.3em;box-sizing: border-box;text-align: center;}#sk-container-id-1 label.sk-toggleable__label-arrow:before {content: \"▸\";float: left;margin-right: 0.25em;color: #696969;}#sk-container-id-1 label.sk-toggleable__label-arrow:hover:before {color: black;}#sk-container-id-1 div.sk-estimator:hover label.sk-toggleable__label-arrow:before {color: black;}#sk-container-id-1 div.sk-toggleable__content {max-height: 0;max-width: 0;overflow: hidden;text-align: left;background-color: #f0f8ff;}#sk-container-id-1 div.sk-toggleable__content pre {margin: 0.2em;color: black;border-radius: 0.25em;background-color: #f0f8ff;}#sk-container-id-1 input.sk-toggleable__control:checked~div.sk-toggleable__content {max-height: 200px;max-width: 100%;overflow: auto;}#sk-container-id-1 input.sk-toggleable__control:checked~label.sk-toggleable__label-arrow:before {content: \"▾\";}#sk-container-id-1 div.sk-estimator input.sk-toggleable__control:checked~label.sk-toggleable__label {background-color: #d4ebff;}#sk-container-id-1 div.sk-label input.sk-toggleable__control:checked~label.sk-toggleable__label {background-color: #d4ebff;}#sk-container-id-1 input.sk-hidden--visually {border: 0;clip: rect(1px 1px 1px 1px);clip: rect(1px, 1px, 1px, 1px);height: 1px;margin: -1px;overflow: hidden;padding: 0;position: absolute;width: 1px;}#sk-container-id-1 div.sk-estimator {font-family: monospace;background-color: #f0f8ff;border: 1px dotted black;border-radius: 0.25em;box-sizing: border-box;margin-bottom: 0.5em;}#sk-container-id-1 div.sk-estimator:hover {background-color: #d4ebff;}#sk-container-id-1 div.sk-parallel-item::after {content: \"\";width: 100%;border-bottom: 1px solid gray;flex-grow: 1;}#sk-container-id-1 div.sk-label:hover label.sk-toggleable__label {background-color: #d4ebff;}#sk-container-id-1 div.sk-serial::before {content: \"\";position: absolute;border-left: 1px solid gray;box-sizing: border-box;top: 0;bottom: 0;left: 50%;z-index: 0;}#sk-container-id-1 div.sk-serial {display: flex;flex-direction: column;align-items: center;background-color: white;padding-right: 0.2em;padding-left: 0.2em;position: relative;}#sk-container-id-1 div.sk-item {position: relative;z-index: 1;}#sk-container-id-1 div.sk-parallel {display: flex;align-items: stretch;justify-content: center;background-color: white;position: relative;}#sk-container-id-1 div.sk-item::before, #sk-container-id-1 div.sk-parallel-item::before {content: \"\";position: absolute;border-left: 1px solid gray;box-sizing: border-box;top: 0;bottom: 0;left: 50%;z-index: -1;}#sk-container-id-1 div.sk-parallel-item {display: flex;flex-direction: column;z-index: 1;position: relative;background-color: white;}#sk-container-id-1 div.sk-parallel-item:first-child::after {align-self: flex-end;width: 50%;}#sk-container-id-1 div.sk-parallel-item:last-child::after {align-self: flex-start;width: 50%;}#sk-container-id-1 div.sk-parallel-item:only-child::after {width: 0;}#sk-container-id-1 div.sk-dashed-wrapped {border: 1px dashed gray;margin: 0 0.4em 0.5em 0.4em;box-sizing: border-box;padding-bottom: 0.4em;background-color: white;}#sk-container-id-1 div.sk-label label {font-family: monospace;font-weight: bold;display: inline-block;line-height: 1.2em;}#sk-container-id-1 div.sk-label-container {text-align: center;}#sk-container-id-1 div.sk-container {/* jupyter's `normalize.less` sets `[hidden] { display: none; }` but bootstrap.min.css set `[hidden] { display: none !important; }` so we also need the `!important` here to be able to override the default hidden behavior on the sphinx rendered scikit-learn.org. See: https://github.com/scikit-learn/scikit-learn/issues/21755 */display: inline-block !important;position: relative;}#sk-container-id-1 div.sk-text-repr-fallback {display: none;}</style><div id=\"sk-container-id-1\" class=\"sk-top-container\"><div class=\"sk-text-repr-fallback\"><pre>XGBRegressor(base_score=None, booster=None, callbacks=None,\n",
       "             colsample_bylevel=None, colsample_bynode=None,\n",
       "             colsample_bytree=None, early_stopping_rounds=None,\n",
       "             enable_categorical=False, eval_metric=None, feature_types=None,\n",
       "             gamma=None, gpu_id=None, grow_policy=None, importance_type=None,\n",
       "             interaction_constraints=None, learning_rate=None, max_bin=None,\n",
       "             max_cat_threshold=None, max_cat_to_onehot=None,\n",
       "             max_delta_step=None, max_depth=10, max_leaves=None,\n",
       "             min_child_weight=None, missing=nan, monotone_constraints=None,\n",
       "             n_estimators=500, n_jobs=None, num_parallel_tree=None,\n",
       "             predictor=None, random_state=None, ...)</pre><b>In a Jupyter environment, please rerun this cell to show the HTML representation or trust the notebook. <br />On GitHub, the HTML representation is unable to render, please try loading this page with nbviewer.org.</b></div><div class=\"sk-container\" hidden><div class=\"sk-item\"><div class=\"sk-estimator sk-toggleable\"><input class=\"sk-toggleable__control sk-hidden--visually\" id=\"sk-estimator-id-1\" type=\"checkbox\" checked><label for=\"sk-estimator-id-1\" class=\"sk-toggleable__label sk-toggleable__label-arrow\">XGBRegressor</label><div class=\"sk-toggleable__content\"><pre>XGBRegressor(base_score=None, booster=None, callbacks=None,\n",
       "             colsample_bylevel=None, colsample_bynode=None,\n",
       "             colsample_bytree=None, early_stopping_rounds=None,\n",
       "             enable_categorical=False, eval_metric=None, feature_types=None,\n",
       "             gamma=None, gpu_id=None, grow_policy=None, importance_type=None,\n",
       "             interaction_constraints=None, learning_rate=None, max_bin=None,\n",
       "             max_cat_threshold=None, max_cat_to_onehot=None,\n",
       "             max_delta_step=None, max_depth=10, max_leaves=None,\n",
       "             min_child_weight=None, missing=nan, monotone_constraints=None,\n",
       "             n_estimators=500, n_jobs=None, num_parallel_tree=None,\n",
       "             predictor=None, random_state=None, ...)</pre></div></div></div></div></div>"
      ],
      "text/plain": [
       "XGBRegressor(base_score=None, booster=None, callbacks=None,\n",
       "             colsample_bylevel=None, colsample_bynode=None,\n",
       "             colsample_bytree=None, early_stopping_rounds=None,\n",
       "             enable_categorical=False, eval_metric=None, feature_types=None,\n",
       "             gamma=None, gpu_id=None, grow_policy=None, importance_type=None,\n",
       "             interaction_constraints=None, learning_rate=None, max_bin=None,\n",
       "             max_cat_threshold=None, max_cat_to_onehot=None,\n",
       "             max_delta_step=None, max_depth=10, max_leaves=None,\n",
       "             min_child_weight=None, missing=nan, monotone_constraints=None,\n",
       "             n_estimators=500, n_jobs=None, num_parallel_tree=None,\n",
       "             predictor=None, random_state=None, ...)"
      ]
     },
     "execution_count": 20,
     "metadata": {},
     "output_type": "execute_result"
    }
   ],
   "source": [
    "model_xgbr.fit(X_train_enc, y_train)"
   ]
  },
  {
   "cell_type": "code",
   "execution_count": 21,
   "id": "b0cfa45e",
   "metadata": {},
   "outputs": [
    {
     "name": "stdout",
     "output_type": "stream",
     "text": [
      "Score for XGBR: 0.17812679551607902\n",
      "RMSE for XGBR: 558.1400441871748\n"
     ]
    }
   ],
   "source": [
    "print(f\"Score for XGBR: {model_xgbr.score(X_test_enc, y_test)}\")\n",
    "\n",
    "y_pred_xgbr = model_xgbr.predict(X_test_enc)\n",
    "rmse_xgbr = np.sqrt(((y_pred_xgbr - y_test)**2).mean()) \n",
    "print(f\"RMSE for XGBR: {rmse_xgbr}\")"
   ]
  },
  {
   "cell_type": "markdown",
   "id": "f5c9199e",
   "metadata": {},
   "source": [
    "### Test predictions"
   ]
  },
  {
   "cell_type": "code",
   "execution_count": 22,
   "id": "453af920",
   "metadata": {},
   "outputs": [],
   "source": [
    "X_test_sub0 = pd.read_csv(\"datasets_hi4/X_test.csv\", sep=\";\")"
   ]
  },
  {
   "cell_type": "code",
   "execution_count": 23,
   "id": "b054c566",
   "metadata": {
    "scrolled": true
   },
   "outputs": [],
   "source": [
    "X_test_sub = X_test_sub0.copy()"
   ]
  },
  {
   "cell_type": "code",
   "execution_count": 24,
   "id": "64d2e1a7",
   "metadata": {},
   "outputs": [],
   "source": [
    "X_test_sub[\"Country\"] = X_test_sub[\"Country\"].str.upper()\n",
    "\n",
    "date = X_test_sub[\"Date\"].str.split(n=1, expand=True)\n",
    "X_test_sub[\"Year\"] = date[1]\n",
    "X_test_sub[\"Trisem\"] = pd.to_numeric(date[0].str.slice(stop=3).replace(month_lib))//3\n",
    "X_test_sub[\"Trisem\"] = X_test_sub[\"Trisem\"].astype(str)\n",
    "\n",
    "for col in [\"Month 1\", \"Month 2\", \"Month 3\"]:\n",
    "    X_test_sub[col] = pd.to_numeric(X_test_sub[col].str.replace(\" \", \"\"))\n",
    "       \n",
    "X_test_sub['Month 1'] = X_test_sub.groupby('Strategic Product Family proxy')['Month 1'].transform(lambda x: x.fillna(x.mean()))\n",
    "X_test_sub[\"Product Life cycel status\"] = X_test_sub[\"Product Life cycel status\"].fillna(\"ACT\")"
   ]
  },
  {
   "cell_type": "code",
   "execution_count": 25,
   "id": "f8bdaf07",
   "metadata": {
    "scrolled": false
   },
   "outputs": [
    {
     "name": "stdout",
     "output_type": "stream",
     "text": [
      "(111391, 18)\n",
      "(111390, 21)\n",
      "(111390, 22)\n",
      "(109624, 26)\n",
      "(109624, 29)\n",
      "(109624, 31)\n"
     ]
    }
   ],
   "source": [
    "print(X_test_sub0.shape)\n",
    "X_test_sub = pd.merge(X_test_sub, df_GSCPI, on=[\"Year\", \"Trisem\"])\n",
    "print(X_test_sub.shape)\n",
    "X_test_sub = pd.merge(X_test_sub, df_LPI, on =[\"Country\"])\n",
    "print(X_test_sub.shape)\n",
    "X_test_sub = pd.merge(X_test_sub, df_epi, on=[\"Country\"])\n",
    "print(X_test_sub.shape)\n",
    "X_test_sub = pd.merge(X_test_sub, df_econ, on = ['Country', 'Year'])\n",
    "print(X_test_sub.shape)\n",
    "X_test_sub = pd.merge(X_test_sub, dfi_grouped, how = \"left\", on = [\"Year\", \"Trisem\", \"Country\"])\n",
    "print(X_test_sub.shape)"
   ]
  },
  {
   "cell_type": "code",
   "execution_count": 26,
   "id": "f69a9994",
   "metadata": {
    "scrolled": false
   },
   "outputs": [
    {
     "name": "stderr",
     "output_type": "stream",
     "text": [
      "Using categorical units to plot a list of strings that are all parsable as floats or dates. If these strings should be plotted as numbers, cast to the appropriate data type before plotting.\n",
      "Using categorical units to plot a list of strings that are all parsable as floats or dates. If these strings should be plotted as numbers, cast to the appropriate data type before plotting.\n"
     ]
    },
    {
     "data": {
      "text/plain": [
       "<Axes: >"
      ]
     },
     "execution_count": 26,
     "metadata": {},
     "output_type": "execute_result"
    },
    {
     "data": {
      "image/png": "[encoded data removed]",
      "text/plain": [
       "<Figure size 640x480 with 1 Axes>"
      ]
     },
     "metadata": {},
     "output_type": "display_data"
    }
   ],
   "source": [
    "X_test_sub[\"Year\"].hist()"
   ]
  },
  {
   "cell_type": "code",
   "execution_count": 27,
   "id": "40a1b548",
   "metadata": {},
   "outputs": [
    {
     "name": "stderr",
     "output_type": "stream",
     "text": [
      "Using categorical units to plot a list of strings that are all parsable as floats or dates. If these strings should be plotted as numbers, cast to the appropriate data type before plotting.\n",
      "Using categorical units to plot a list of strings that are all parsable as floats or dates. If these strings should be plotted as numbers, cast to the appropriate data type before plotting.\n"
     ]
    },
    {
     "data": {
      "text/plain": [
       "<Axes: >"
      ]
     },
     "execution_count": 27,
     "metadata": {},
     "output_type": "execute_result"
    },
    {
     "data": {
      "image/png": "[encoded data removed]",
      "text/plain": [
       "<Figure size 640x480 with 1 Axes>"
      ]
     },
     "metadata": {},
     "output_type": "display_data"
    }
   ],
   "source": [
    "X_test_sub[\"Trisem\"].hist()"
   ]
  },
  {
   "cell_type": "code",
   "execution_count": 28,
   "id": "74c3a83f",
   "metadata": {},
   "outputs": [
    {
     "data": {
      "text/plain": [
       "2020    5\n",
       "2021    5\n",
       "2022    5\n",
       "2023    3\n",
       "Name: Year, dtype: int64"
      ]
     },
     "execution_count": 28,
     "metadata": {},
     "output_type": "execute_result"
    }
   ],
   "source": [
    "df_GSCPI[\"Year\"].value_counts()"
   ]
  },
  {
   "cell_type": "code",
   "execution_count": 29,
   "id": "e816d013",
   "metadata": {},
   "outputs": [
    {
     "data": {
      "text/plain": [
       "1    36037\n",
       "0    35821\n",
       "2    35624\n",
       "Name: Trisem, dtype: int64"
      ]
     },
     "execution_count": 29,
     "metadata": {},
     "output_type": "execute_result"
    }
   ],
   "source": [
    "X_test[\"Trisem\"].value_counts()"
   ]
  },
  {
   "cell_type": "code",
   "execution_count": 30,
   "id": "0d6aad0f",
   "metadata": {},
   "outputs": [
    {
     "data": {
      "text/plain": [
       "0    4\n",
       "1    4\n",
       "2    4\n",
       "3    3\n",
       "4    3\n",
       "Name: Trisem, dtype: int64"
      ]
     },
     "execution_count": 30,
     "metadata": {},
     "output_type": "execute_result"
    }
   ],
   "source": [
    "df_GSCPI[\"Trisem\"].value_counts()"
   ]
  },
  {
   "cell_type": "code",
   "execution_count": 31,
   "id": "0d3ff310",
   "metadata": {},
   "outputs": [
    {
     "data": {
      "text/html": [
       "<div>\n",
       "<style scoped>\n",
       "    .dataframe tbody tr th:only-of-type {\n",
       "        vertical-align: middle;\n",
       "    }\n",
       "\n",
       "    .dataframe tbody tr th {\n",
       "        vertical-align: top;\n",
       "    }\n",
       "\n",
       "    .dataframe thead th {\n",
       "        text-align: right;\n",
       "    }\n",
       "</style>\n",
       "<table border=\"1\" class=\"dataframe\">\n",
       "  <thead>\n",
       "    <tr style=\"text-align: right;\">\n",
       "      <th></th>\n",
       "      <th>Region_CHINA</th>\n",
       "      <th>Region_EAJP</th>\n",
       "      <th>Region_EUROPE</th>\n",
       "      <th>Region_NAM</th>\n",
       "      <th>Product Life cycel status_ACT</th>\n",
       "      <th>Product Life cycel status_EOL</th>\n",
       "      <th>Product Life cycel status_NPI</th>\n",
       "      <th>Product Life cycel status_RaMPDOWN</th>\n",
       "      <th>Product  Line proxy_Product Line-1</th>\n",
       "      <th>Product  Line proxy_Product Line-2</th>\n",
       "      <th>...</th>\n",
       "      <th>Product  Line proxy_Product Line-4</th>\n",
       "      <th>Product  Line proxy_Product Line-5</th>\n",
       "      <th>Product  Line proxy_Product Line-6</th>\n",
       "      <th>Year_2020</th>\n",
       "      <th>Year_2021</th>\n",
       "      <th>Year_2022</th>\n",
       "      <th>Year_2023</th>\n",
       "      <th>Trisem_0</th>\n",
       "      <th>Trisem_1</th>\n",
       "      <th>Trisem_2</th>\n",
       "    </tr>\n",
       "  </thead>\n",
       "  <tbody>\n",
       "    <tr>\n",
       "      <th>0</th>\n",
       "      <td>0</td>\n",
       "      <td>1</td>\n",
       "      <td>0</td>\n",
       "      <td>0</td>\n",
       "      <td>0</td>\n",
       "      <td>1</td>\n",
       "      <td>0</td>\n",
       "      <td>0</td>\n",
       "      <td>1</td>\n",
       "      <td>0</td>\n",
       "      <td>...</td>\n",
       "      <td>0</td>\n",
       "      <td>0</td>\n",
       "      <td>0</td>\n",
       "      <td>0</td>\n",
       "      <td>1</td>\n",
       "      <td>0</td>\n",
       "      <td>0</td>\n",
       "      <td>0</td>\n",
       "      <td>1</td>\n",
       "      <td>0</td>\n",
       "    </tr>\n",
       "    <tr>\n",
       "      <th>1</th>\n",
       "      <td>0</td>\n",
       "      <td>1</td>\n",
       "      <td>0</td>\n",
       "      <td>0</td>\n",
       "      <td>1</td>\n",
       "      <td>0</td>\n",
       "      <td>0</td>\n",
       "      <td>0</td>\n",
       "      <td>1</td>\n",
       "      <td>0</td>\n",
       "      <td>...</td>\n",
       "      <td>0</td>\n",
       "      <td>0</td>\n",
       "      <td>0</td>\n",
       "      <td>0</td>\n",
       "      <td>1</td>\n",
       "      <td>0</td>\n",
       "      <td>0</td>\n",
       "      <td>0</td>\n",
       "      <td>1</td>\n",
       "      <td>0</td>\n",
       "    </tr>\n",
       "    <tr>\n",
       "      <th>2</th>\n",
       "      <td>0</td>\n",
       "      <td>1</td>\n",
       "      <td>0</td>\n",
       "      <td>0</td>\n",
       "      <td>1</td>\n",
       "      <td>0</td>\n",
       "      <td>0</td>\n",
       "      <td>0</td>\n",
       "      <td>1</td>\n",
       "      <td>0</td>\n",
       "      <td>...</td>\n",
       "      <td>0</td>\n",
       "      <td>0</td>\n",
       "      <td>0</td>\n",
       "      <td>0</td>\n",
       "      <td>1</td>\n",
       "      <td>0</td>\n",
       "      <td>0</td>\n",
       "      <td>0</td>\n",
       "      <td>1</td>\n",
       "      <td>0</td>\n",
       "    </tr>\n",
       "    <tr>\n",
       "      <th>3</th>\n",
       "      <td>0</td>\n",
       "      <td>1</td>\n",
       "      <td>0</td>\n",
       "      <td>0</td>\n",
       "      <td>1</td>\n",
       "      <td>0</td>\n",
       "      <td>0</td>\n",
       "      <td>0</td>\n",
       "      <td>1</td>\n",
       "      <td>0</td>\n",
       "      <td>...</td>\n",
       "      <td>0</td>\n",
       "      <td>0</td>\n",
       "      <td>0</td>\n",
       "      <td>0</td>\n",
       "      <td>1</td>\n",
       "      <td>0</td>\n",
       "      <td>0</td>\n",
       "      <td>0</td>\n",
       "      <td>1</td>\n",
       "      <td>0</td>\n",
       "    </tr>\n",
       "    <tr>\n",
       "      <th>4</th>\n",
       "      <td>0</td>\n",
       "      <td>1</td>\n",
       "      <td>0</td>\n",
       "      <td>0</td>\n",
       "      <td>1</td>\n",
       "      <td>0</td>\n",
       "      <td>0</td>\n",
       "      <td>0</td>\n",
       "      <td>1</td>\n",
       "      <td>0</td>\n",
       "      <td>...</td>\n",
       "      <td>0</td>\n",
       "      <td>0</td>\n",
       "      <td>0</td>\n",
       "      <td>0</td>\n",
       "      <td>1</td>\n",
       "      <td>0</td>\n",
       "      <td>0</td>\n",
       "      <td>0</td>\n",
       "      <td>1</td>\n",
       "      <td>0</td>\n",
       "    </tr>\n",
       "    <tr>\n",
       "      <th>...</th>\n",
       "      <td>...</td>\n",
       "      <td>...</td>\n",
       "      <td>...</td>\n",
       "      <td>...</td>\n",
       "      <td>...</td>\n",
       "      <td>...</td>\n",
       "      <td>...</td>\n",
       "      <td>...</td>\n",
       "      <td>...</td>\n",
       "      <td>...</td>\n",
       "      <td>...</td>\n",
       "      <td>...</td>\n",
       "      <td>...</td>\n",
       "      <td>...</td>\n",
       "      <td>...</td>\n",
       "      <td>...</td>\n",
       "      <td>...</td>\n",
       "      <td>...</td>\n",
       "      <td>...</td>\n",
       "      <td>...</td>\n",
       "      <td>...</td>\n",
       "    </tr>\n",
       "    <tr>\n",
       "      <th>109619</th>\n",
       "      <td>0</td>\n",
       "      <td>1</td>\n",
       "      <td>0</td>\n",
       "      <td>0</td>\n",
       "      <td>1</td>\n",
       "      <td>0</td>\n",
       "      <td>0</td>\n",
       "      <td>0</td>\n",
       "      <td>0</td>\n",
       "      <td>0</td>\n",
       "      <td>...</td>\n",
       "      <td>0</td>\n",
       "      <td>0</td>\n",
       "      <td>0</td>\n",
       "      <td>1</td>\n",
       "      <td>0</td>\n",
       "      <td>0</td>\n",
       "      <td>0</td>\n",
       "      <td>0</td>\n",
       "      <td>0</td>\n",
       "      <td>1</td>\n",
       "    </tr>\n",
       "    <tr>\n",
       "      <th>109620</th>\n",
       "      <td>0</td>\n",
       "      <td>1</td>\n",
       "      <td>0</td>\n",
       "      <td>0</td>\n",
       "      <td>1</td>\n",
       "      <td>0</td>\n",
       "      <td>0</td>\n",
       "      <td>0</td>\n",
       "      <td>0</td>\n",
       "      <td>0</td>\n",
       "      <td>...</td>\n",
       "      <td>0</td>\n",
       "      <td>0</td>\n",
       "      <td>0</td>\n",
       "      <td>0</td>\n",
       "      <td>0</td>\n",
       "      <td>1</td>\n",
       "      <td>0</td>\n",
       "      <td>0</td>\n",
       "      <td>1</td>\n",
       "      <td>0</td>\n",
       "    </tr>\n",
       "    <tr>\n",
       "      <th>109621</th>\n",
       "      <td>0</td>\n",
       "      <td>1</td>\n",
       "      <td>0</td>\n",
       "      <td>0</td>\n",
       "      <td>1</td>\n",
       "      <td>0</td>\n",
       "      <td>0</td>\n",
       "      <td>0</td>\n",
       "      <td>0</td>\n",
       "      <td>0</td>\n",
       "      <td>...</td>\n",
       "      <td>0</td>\n",
       "      <td>0</td>\n",
       "      <td>0</td>\n",
       "      <td>0</td>\n",
       "      <td>0</td>\n",
       "      <td>1</td>\n",
       "      <td>0</td>\n",
       "      <td>0</td>\n",
       "      <td>0</td>\n",
       "      <td>1</td>\n",
       "    </tr>\n",
       "    <tr>\n",
       "      <th>109622</th>\n",
       "      <td>0</td>\n",
       "      <td>1</td>\n",
       "      <td>0</td>\n",
       "      <td>0</td>\n",
       "      <td>1</td>\n",
       "      <td>0</td>\n",
       "      <td>0</td>\n",
       "      <td>0</td>\n",
       "      <td>0</td>\n",
       "      <td>0</td>\n",
       "      <td>...</td>\n",
       "      <td>0</td>\n",
       "      <td>0</td>\n",
       "      <td>0</td>\n",
       "      <td>0</td>\n",
       "      <td>0</td>\n",
       "      <td>1</td>\n",
       "      <td>0</td>\n",
       "      <td>0</td>\n",
       "      <td>0</td>\n",
       "      <td>1</td>\n",
       "    </tr>\n",
       "    <tr>\n",
       "      <th>109623</th>\n",
       "      <td>0</td>\n",
       "      <td>1</td>\n",
       "      <td>0</td>\n",
       "      <td>0</td>\n",
       "      <td>1</td>\n",
       "      <td>0</td>\n",
       "      <td>0</td>\n",
       "      <td>0</td>\n",
       "      <td>0</td>\n",
       "      <td>1</td>\n",
       "      <td>...</td>\n",
       "      <td>0</td>\n",
       "      <td>0</td>\n",
       "      <td>0</td>\n",
       "      <td>0</td>\n",
       "      <td>0</td>\n",
       "      <td>1</td>\n",
       "      <td>0</td>\n",
       "      <td>0</td>\n",
       "      <td>0</td>\n",
       "      <td>1</td>\n",
       "    </tr>\n",
       "  </tbody>\n",
       "</table>\n",
       "<p>109624 rows × 21 columns</p>\n",
       "</div>"
      ],
      "text/plain": [
       "        Region_CHINA  Region_EAJP  Region_EUROPE  Region_NAM  \\\n",
       "0                  0            1              0           0   \n",
       "1                  0            1              0           0   \n",
       "2                  0            1              0           0   \n",
       "3                  0            1              0           0   \n",
       "4                  0            1              0           0   \n",
       "...              ...          ...            ...         ...   \n",
       "109619             0            1              0           0   \n",
       "109620             0            1              0           0   \n",
       "109621             0            1              0           0   \n",
       "109622             0            1              0           0   \n",
       "109623             0            1              0           0   \n",
       "\n",
       "        Product Life cycel status_ACT  Product Life cycel status_EOL  \\\n",
       "0                                   0                              1   \n",
       "1                                   1                              0   \n",
       "2                                   1                              0   \n",
       "3                                   1                              0   \n",
       "4                                   1                              0   \n",
       "...                               ...                            ...   \n",
       "109619                              1                              0   \n",
       "109620                              1                              0   \n",
       "109621                              1                              0   \n",
       "109622                              1                              0   \n",
       "109623                              1                              0   \n",
       "\n",
       "        Product Life cycel status_NPI  Product Life cycel status_RaMPDOWN  \\\n",
       "0                                   0                                   0   \n",
       "1                                   0                                   0   \n",
       "2                                   0                                   0   \n",
       "3                                   0                                   0   \n",
       "4                                   0                                   0   \n",
       "...                               ...                                 ...   \n",
       "109619                              0                                   0   \n",
       "109620                              0                                   0   \n",
       "109621                              0                                   0   \n",
       "109622                              0                                   0   \n",
       "109623                              0                                   0   \n",
       "\n",
       "        Product  Line proxy_Product Line-1  \\\n",
       "0                                        1   \n",
       "1                                        1   \n",
       "2                                        1   \n",
       "3                                        1   \n",
       "4                                        1   \n",
       "...                                    ...   \n",
       "109619                                   0   \n",
       "109620                                   0   \n",
       "109621                                   0   \n",
       "109622                                   0   \n",
       "109623                                   0   \n",
       "\n",
       "        Product  Line proxy_Product Line-2  ...  \\\n",
       "0                                        0  ...   \n",
       "1                                        0  ...   \n",
       "2                                        0  ...   \n",
       "3                                        0  ...   \n",
       "4                                        0  ...   \n",
       "...                                    ...  ...   \n",
       "109619                                   0  ...   \n",
       "109620                                   0  ...   \n",
       "109621                                   0  ...   \n",
       "109622                                   0  ...   \n",
       "109623                                   1  ...   \n",
       "\n",
       "        Product  Line proxy_Product Line-4  \\\n",
       "0                                        0   \n",
       "1                                        0   \n",
       "2                                        0   \n",
       "3                                        0   \n",
       "4                                        0   \n",
       "...                                    ...   \n",
       "109619                                   0   \n",
       "109620                                   0   \n",
       "109621                                   0   \n",
       "109622                                   0   \n",
       "109623                                   0   \n",
       "\n",
       "        Product  Line proxy_Product Line-5  \\\n",
       "0                                        0   \n",
       "1                                        0   \n",
       "2                                        0   \n",
       "3                                        0   \n",
       "4                                        0   \n",
       "...                                    ...   \n",
       "109619                                   0   \n",
       "109620                                   0   \n",
       "109621                                   0   \n",
       "109622                                   0   \n",
       "109623                                   0   \n",
       "\n",
       "        Product  Line proxy_Product Line-6  Year_2020  Year_2021  Year_2022  \\\n",
       "0                                        0          0          1          0   \n",
       "1                                        0          0          1          0   \n",
       "2                                        0          0          1          0   \n",
       "3                                        0          0          1          0   \n",
       "4                                        0          0          1          0   \n",
       "...                                    ...        ...        ...        ...   \n",
       "109619                                   0          1          0          0   \n",
       "109620                                   0          0          0          1   \n",
       "109621                                   0          0          0          1   \n",
       "109622                                   0          0          0          1   \n",
       "109623                                   0          0          0          1   \n",
       "\n",
       "        Year_2023  Trisem_0  Trisem_1  Trisem_2  \n",
       "0               0         0         1         0  \n",
       "1               0         0         1         0  \n",
       "2               0         0         1         0  \n",
       "3               0         0         1         0  \n",
       "4               0         0         1         0  \n",
       "...           ...       ...       ...       ...  \n",
       "109619          0         0         0         1  \n",
       "109620          0         0         1         0  \n",
       "109621          0         0         0         1  \n",
       "109622          0         0         0         1  \n",
       "109623          0         0         0         1  \n",
       "\n",
       "[109624 rows x 21 columns]"
      ]
     },
     "execution_count": 31,
     "metadata": {},
     "output_type": "execute_result"
    }
   ],
   "source": [
    "var_onehot = [\"Region\",\"Product Life cycel status\",\"Product  Line proxy\",\"Year\",\"Trisem\"]\n",
    "onehot_df_sub = X_test_sub[var_onehot]\n",
    "\n",
    "onehot_enc = OneHotEncoder(handle_unknown=\"ignore\",sparse_output=False)\n",
    "onehot_enc.fit(onehot_df_sub)\n",
    "onehot_features = onehot_enc.get_feature_names_out()\n",
    "\n",
    "onehot_df_sub_t = pd.DataFrame(onehot_enc.transform(onehot_df_sub).astype(\"int\"), columns=onehot_features)\n",
    "onehot_df_sub_t"
   ]
  },
  {
   "cell_type": "code",
   "execution_count": 32,
   "id": "564bbba4",
   "metadata": {},
   "outputs": [],
   "source": [
    "X_test_sub_enc = pd.concat([X_test_sub.drop(columns=var_onehot).reset_index(drop=True), onehot_df_sub_t],axis=1)"
   ]
  },
  {
   "cell_type": "code",
   "execution_count": 33,
   "id": "d467829e",
   "metadata": {},
   "outputs": [
    {
     "ename": "NameError",
     "evalue": "name 'y_pred_sub' is not defined",
     "output_type": "error",
     "traceback": [
      "\u001b[1;31m---------------------------------------------------------------------------\u001b[0m",
      "\u001b[1;31mNameError\u001b[0m                                 Traceback (most recent call last)",
      "Cell \u001b[1;32mIn[33], line 1\u001b[0m\n\u001b[1;32m----> 1\u001b[0m \u001b[38;5;28mlen\u001b[39m(y_pred_sub)\n",
      "\u001b[1;31mNameError\u001b[0m: name 'y_pred_sub' is not defined"
     ]
    }
   ],
   "source": [
    "len(y_pred_sub)"
   ]
  },
  {
   "cell_type": "code",
   "execution_count": null,
   "id": "79d7e767",
   "metadata": {},
   "outputs": [],
   "source": [
    "X_test_sub_enc = X_test_sub_enc[fitcols_enc]\n",
    "y_pred_sub = model_xgbr.predict(X_test_sub_enc.iloc[0:111391])"
   ]
  },
  {
   "cell_type": "code",
   "execution_count": null,
   "id": "776bd1f1",
   "metadata": {},
   "outputs": [],
   "source": [
    "df_sub = pd.DataFrame({\"index\": list(X_test_sub0[\"index\"]) , \"Month 4\": list(y_pred_sub)},\n",
    "                       columns = [\"index\", \"Month 4\"])"
   ]
  },
  {
   "cell_type": "code",
   "execution_count": null,
   "id": "677a36e2",
   "metadata": {},
   "outputs": [],
   "source": [
    "len({\"index\": list(X_test_sub0[\"index\"]) , \"Month 4\": list(y_pred_sub)}['index'])"
   ]
  },
  {
   "cell_type": "code",
   "execution_count": null,
   "id": "5519ddc7",
   "metadata": {},
   "outputs": [],
   "source": [
    "len(list(y_pred_sub))"
   ]
  }
 ],
 "metadata": {
  "kernelspec": {
   "display_name": "Python 3 (ipykernel)",
   "language": "python",
   "name": "python3"
  },
  "language_info": {
   "codemirror_mode": {
    "name": "ipython",
    "version": 3
   },
   "file_extension": ".py",
   "mimetype": "text/x-python",
   "name": "python",
   "nbconvert_exporter": "python",
   "pygments_lexer": "ipython3",
   "version": "3.11.5"
  }
 },
 "nbformat": 4,
 "nbformat_minor": 5
}
