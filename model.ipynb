{
 "cells": [
  {
   "cell_type": "code",
   "execution_count": 1,
   "id": "e3309500",
   "metadata": {},
   "outputs": [],
   "source": [
    "## Common python packages\n",
    "import numpy as np\n",
    "import pandas as pd\n",
    "\n",
    "## For plotting\n",
    "import matplotlib.pyplot as plt\n",
    "from matplotlib import rcParams\n",
    "%matplotlib inline\n",
    "import seaborn as sns\n",
    "sns.set_style(\"white\")\n",
    "sns.set_context(\"notebook\")\n",
    "sns.set_color_codes()\n",
    "\n",
    "## sklearn - ML tools\n",
    "from sklearn.model_selection import train_test_split, GridSearchCV\n",
    "from sklearn.metrics import accuracy_score, confusion_matrix, ConfusionMatrixDisplay, roc_curve, auc, precision_recall_curve\n",
    "from sklearn.utils import resample, shuffle\n",
    "\n",
    "from xgboost.sklearn import XGBClassifier\n",
    "import xgboost as xgb\n",
    "from xgboost import XGBRegressor\n",
    "from catboost import CatBoostRegressor\n",
    "\n",
    "## weighted stats\n",
    "from statsmodels.stats.weightstats import DescrStatsW\n",
    "\n",
    "## \"-\" sign for graphs\n",
    "rcParams['axes.unicode_minus'] = False\n",
    "\n",
    "## Some extra styling\n",
    "def namestr(obj, namespace = globals()):\n",
    "    \"Prints the name of a variable\"\n",
    "    return [name for name in namespace if namespace[name] is obj][0]\n",
    "\n",
    "## For time\n",
    "from dateutil.relativedelta import relativedelta\n",
    "\n",
    "## For country encoding\n",
    "from dataprep.clean import clean_country"
   ]
  },
  {
   "cell_type": "code",
   "execution_count": 2,
   "id": "b0d97118",
   "metadata": {},
   "outputs": [],
   "source": [
    "## Univar Tools\n",
    "def data_stats(df, cols = None):\n",
    "    cols = df.columns if cols is None else cols\n",
    "    return pd.DataFrame({\"Mean\": df[cols].mean, \"Med\": df[cols].median(), \"STD\": df[cols].std, \n",
    "                         \"Min\": df[cols].min(), \"Max\": df[cols].max()})\n",
    "              \n",
    "def hist_plotter(df, cols = None, range_x = None, n_std = 1, size = None, nbin = 100):\n",
    "    cols = df.select_dtypes(include=np.number).columns if cols is None else cols\n",
    "    for col in cols:\n",
    "        range_ = [df[col].min() + n_std * df[col].std(), df[col].max() - n_std * df[col].std()] if range_x is None else range_x\n",
    "        fig, ax = plt.subplots(1,1)\n",
    "        df[col].plot(kind = \"hist\", range = range_, edgecolor = \"blue\", alpha = 1, bins = nbin, density = 1, ax = ax, figsize = size)\n",
    "        plt.xlabel(col)\n",
    "        plt.show()\n",
    "    \n",
    "def box_plotter(df, cols = None):\n",
    "    cols = df.columns if cols is None else cols\n",
    "    fig, ax = plt.subplots(1, 1)\n",
    "    df[cols].boxplot(ax=ax)\n",
    "    plt.xticks(rotation = 90)\n",
    "    plt.show()\n",
    "    \n",
    "## Bivar Tools\n",
    "def data_corr(df, size = None, cols = None):\n",
    "    cols = df.columns if cols is None else cols \n",
    "    size = (len(cols), len(cols)) if size is None else size\n",
    "    plt.figure(figsize = size)\n",
    "    sns.heatmap(df.corr(), cmap = \"coolwarm\", square = True, vmin = -1, vmax = 1, annot=True)\n",
    "    plt.show()\n",
    "        \n",
    "## For date conversion\n",
    "month_lib = {\n",
    "    \"jan\": 0,\n",
    "    \"feb\": 1,    \n",
    "    \"mar\": 2,\n",
    "    \"apr\": 3,    \n",
    "    \"may\": 4,\n",
    "    \"jun\": 5,    \n",
    "    \"jul\": 6,\n",
    "    \"aug\": 7,    \n",
    "    \"sep\": 8,\n",
    "    \"oct\": 9,    \n",
    "    \"nov\": 10,\n",
    "    \"dec\": 11\n",
    "}"
   ]
  },
  {
   "cell_type": "code",
   "execution_count": 3,
   "id": "3220002f",
   "metadata": {
    "scrolled": false
   },
   "outputs": [],
   "source": [
    "df = pd.read_csv(\"datasets_hi4/train-data.csv\", sep=\";\")\n",
    "\n",
    "date = df[\"Date\"].str.split(n=1, expand=True)\n",
    "df[\"Year\"] = date[1]\n",
    "df[\"Trisem\"] = pd.to_numeric(date[0].str.slice(stop=3).replace(month_lib))//3\n",
    "df[\"Trisem\"] = df[\"Trisem\"].astype(str)\n",
    "\n",
    "df.drop_duplicates(inplace=True)\n",
    "\n",
    "for col in [\"Month 1\", \"Month 2\", \"Month 3\", \"Month 4\"]:\n",
    "    df[col] = pd.to_numeric(df[col].str.replace(\" \", \"\"))\n",
    "       \n",
    "#df['Month 1'] = df.groupby('Strategic Product Family proxy')['Month 1'].transform(lambda x: x.fillna(x.mean()))\n",
    "df[\"Product Life cycel status\"] = df[\"Product Life cycel status\"].fillna(\"ACT\")"
   ]
  },
  {
   "cell_type": "code",
   "execution_count": 4,
   "id": "b03dbf51",
   "metadata": {},
   "outputs": [],
   "source": [
    "df_GSCPI = pd.read_csv(\"datasets_hi4/extra-dataset/GSCPI_data.csv\")\n",
    "\n",
    "df_GSCPI[\"Year\"] = df_GSCPI[\"Year-Month\"].str.slice(stop=4)\n",
    "df_GSCPI[\"Trisem\"] = pd.to_numeric(df_GSCPI[\"Year-Month\"].str.slice(start=5))//3\n",
    "df_GSCPI[\"Trisem\"] = df_GSCPI[\"Trisem\"].astype(str)\n",
    "\n",
    "df_GSCPI = df_GSCPI.groupby([\"Year\", \"Trisem\"], as_index=False)[\"GSCPI\"].mean()"
   ]
  },
  {
   "cell_type": "code",
   "execution_count": 5,
   "id": "8bfb178a",
   "metadata": {},
   "outputs": [
    {
     "name": "stderr",
     "output_type": "stream",
     "text": [
      "C:\\Users\\alper\\anaconda3\\Lib\\site-packages\\dask\\dataframe\\core.py:7067: FutureWarning: Meta is not valid, `map_partitions` and `map_overlap` expects output to be a pandas object. Try passing a pandas object as meta or a dict or tuple representing the (name, dtype) of the columns. In the future the meta you passed will not work.\n",
      "  warnings.warn(\n"
     ]
    },
    {
     "data": {
      "application/vnd.jupyter.widget-view+json": {
       "model_id": "",
       "version_major": 2,
       "version_minor": 0
      },
      "text/plain": [
       "  0%|                                                                                            | 0/8 [00:00<…"
      ]
     },
     "metadata": {},
     "output_type": "display_data"
    },
    {
     "name": "stdout",
     "output_type": "stream",
     "text": [
      "Country Cleaning Report:\n",
      "\t249 values cleaned (99.6%)\n",
      "\t1 values unable to be parsed (0.4%), set to NaN\n",
      "Result contains 249 (99.6%) values in the correct format and 1 null values (0.4%)\n"
     ]
    }
   ],
   "source": [
    "df_LPI = pd.read_csv(\"datasets_hi4/extra-dataset/LPIextend.csv\")\n",
    "\n",
    "cols = []\n",
    "for col in df_LPI.columns:\n",
    "    if \"Score\" in col:\n",
    "            cols.append(col)\n",
    "            \n",
    "df_LPI[\"LogPerf\"] = df_LPI[cols].mean(axis=1)\n",
    "df_LPI = df_LPI.replace('TC<rkiye',\"Turkey\")\n",
    "df_LPI = clean_country(df_LPI, \"Country\", output_format=\"alpha-2\", inplace=True)\n",
    "df_LPI[\"Country_clean\"] = df_LPI[\"Country_clean\"].fillna('NA')\n",
    "\n",
    "df_LPI = df_LPI[[\"Country_clean\", \"LogPerf\"]].rename(columns={\"Country_clean\": \"Country\"}) \n",
    "df_LPI[\"LogPerf\"] = df_LPI[\"LogPerf\"].transform(lambda x: x.fillna(x.mean() - (1/5) * x.std()))"
   ]
  },
  {
   "cell_type": "code",
   "execution_count": 6,
   "id": "f5ab7039",
   "metadata": {},
   "outputs": [
    {
     "name": "stderr",
     "output_type": "stream",
     "text": [
      "C:\\Users\\alper\\anaconda3\\Lib\\site-packages\\dask\\dataframe\\core.py:7067: FutureWarning: Meta is not valid, `map_partitions` and `map_overlap` expects output to be a pandas object. Try passing a pandas object as meta or a dict or tuple representing the (name, dtype) of the columns. In the future the meta you passed will not work.\n",
      "  warnings.warn(\n"
     ]
    },
    {
     "data": {
      "application/vnd.jupyter.widget-view+json": {
       "model_id": "",
       "version_major": 2,
       "version_minor": 0
      },
      "text/plain": [
       "  0%|                                                                                            | 0/8 [00:00<…"
      ]
     },
     "metadata": {},
     "output_type": "display_data"
    },
    {
     "name": "stdout",
     "output_type": "stream",
     "text": [
      "Country Cleaning Report:\n",
      "\t8084 values cleaned (99.47%)\n",
      "\t43 values unable to be parsed (0.53%), set to NaN\n",
      "Result contains 8084 (99.47%) values in the correct format and 43 null values (0.53%)\n"
     ]
    },
    {
     "name": "stderr",
     "output_type": "stream",
     "text": [
      "C:\\Users\\alper\\AppData\\Local\\Temp\\ipykernel_15504\\2549750652.py:18: FutureWarning: Indexing with multiple keys (implicitly converted to a tuple of keys) will be deprecated, use a list instead.\n",
      "  dfi_grouped = df_inf.groupby([\"Year\", \"Trisem\", \"Country\"])[\"Energy Price Index\", \"Headline Consumer Price Index\"].mean()\n"
     ]
    }
   ],
   "source": [
    "df_inf = pd.read_csv(\"datasets_hi4/extra-dataset/worldbank_inflation_data.csv\")\n",
    "\n",
    "inf_years = np.array(list(map(lambda x: x.split('-')[0], df_inf[\"Year-Month\"].to_list())))\n",
    "inf_months = np.array(list(map(lambda x: int(x.split('-')[1]), df_inf[\"Year-Month\"].to_list())))\n",
    "\n",
    "df_inf[\"Year\"] = inf_years\n",
    "df_inf[\"Trisem\"] = list(map(str, (inf_months - 1)//4))\n",
    "\n",
    "df_inf = df_inf.replace('SÃ£o TomÃ© and Principe',\"Sao Tome and Principe\")\n",
    "df_inf = clean_country(df_inf, \"Country\", output_format=\"alpha-2\")\n",
    "df_inf.drop(columns = ['Country', 'Year-Month'], inplace = True)\n",
    "df_inf.rename(columns = {\"Country_clean\": \"Country\"}, inplace = True)\n",
    "df_inf[\"Country\"] = df_inf[\"Country\"].fillna('NA')\n",
    "\n",
    "df_inf[\"Energy Price Index\"] = df_inf[\"Energy Price Index\"].transform(lambda x: x.fillna(x.mean()))\n",
    "df_inf[\"Headline Consumer Price Index\"] = df_inf[\"Headline Consumer Price Index\"].transform(lambda x: x.fillna(x.mean()))\n",
    "\n",
    "dfi_grouped = df_inf.groupby([\"Year\", \"Trisem\", \"Country\"])[\"Energy Price Index\", \"Headline Consumer Price Index\"].mean()"
   ]
  },
  {
   "cell_type": "code",
   "execution_count": 7,
   "id": "3d54c7d2",
   "metadata": {},
   "outputs": [
    {
     "name": "stderr",
     "output_type": "stream",
     "text": [
      "C:\\Users\\alper\\anaconda3\\Lib\\site-packages\\dask\\dataframe\\core.py:7067: FutureWarning: Meta is not valid, `map_partitions` and `map_overlap` expects output to be a pandas object. Try passing a pandas object as meta or a dict or tuple representing the (name, dtype) of the columns. In the future the meta you passed will not work.\n",
      "  warnings.warn(\n"
     ]
    },
    {
     "data": {
      "application/vnd.jupyter.widget-view+json": {
       "model_id": "",
       "version_major": 2,
       "version_minor": 0
      },
      "text/plain": [
       "  0%|                                                                                            | 0/8 [00:00<…"
      ]
     },
     "metadata": {},
     "output_type": "display_data"
    },
    {
     "name": "stdout",
     "output_type": "stream",
     "text": [
      "Country Cleaning Report:\n",
      "\t179 values cleaned (99.44%)\n",
      "\t1 values unable to be parsed (0.56%), set to NaN\n",
      "Result contains 179 (99.44%) values in the correct format and 1 null values (0.56%)\n"
     ]
    }
   ],
   "source": [
    "df_epi = pd.read_csv(\"datasets_hi4/extra-dataset/epi2022results05302022.csv\")\n",
    "\n",
    "df_epi = clean_country(df_epi, \"country\", output_format=\"alpha-2\", inplace=True)\n",
    "df_epi = df_epi[[\"country_clean\", \"SDA.new\", \"NXA.new\", \"CDA.new\", \"CHA.new\", \"NDA.new\",\n",
    "                 \"BCA.new\", \"GIB.new\", \"GHP.new\"]]\n",
    "df_epi = df_epi.rename(columns = {\"country_clean\": \"Country\"})\n",
    "df_epi[\"EmAv\"] = df_epi[[\"NXA.new\", \"CDA.new\", \"SDA.new\", \"BCA.new\", \"NDA.new\"]].mean(axis=1)\n",
    "df_epi = df_epi.drop([\"NXA.new\",\"CDA.new\",\"SDA.new\",\"BCA.new\",\"NDA.new\"],axis=1)\n",
    "\n",
    "df_epi[\"Country\"] = df_epi[\"Country\"].fillna('NA')"
   ]
  },
  {
   "cell_type": "code",
   "execution_count": 8,
   "id": "2d13f13c",
   "metadata": {},
   "outputs": [
    {
     "name": "stderr",
     "output_type": "stream",
     "text": [
      "C:\\Users\\alper\\anaconda3\\Lib\\site-packages\\dask\\dataframe\\core.py:7067: FutureWarning: Meta is not valid, `map_partitions` and `map_overlap` expects output to be a pandas object. Try passing a pandas object as meta or a dict or tuple representing the (name, dtype) of the columns. In the future the meta you passed will not work.\n",
      "  warnings.warn(\n"
     ]
    },
    {
     "data": {
      "application/vnd.jupyter.widget-view+json": {
       "model_id": "",
       "version_major": 2,
       "version_minor": 0
      },
      "text/plain": [
       "  0%|                                                                                            | 0/8 [00:00<…"
      ]
     },
     "metadata": {},
     "output_type": "display_data"
    },
    {
     "name": "stdout",
     "output_type": "stream",
     "text": [
      "Country Cleaning Report:\n",
      "\t856 values cleaned (80.75%)\n",
      "\t204 values unable to be parsed (19.25%), set to NaN\n",
      "Result contains 856 (80.75%) values in the correct format and 204 null values (19.25%)\n"
     ]
    },
    {
     "name": "stderr",
     "output_type": "stream",
     "text": [
      "C:\\Users\\alper\\AppData\\Local\\Temp\\ipykernel_15504\\1679561745.py:28: FutureWarning: The frame.append method is deprecated and will be removed from pandas in a future version. Use pandas.concat instead.\n",
      "  df_econ = df_econ.append(TW_rows, ignore_index = True)\n"
     ]
    }
   ],
   "source": [
    "df_econ = pd.read_csv(\"datasets_hi4/extra-dataset/worldbank_economic_data.csv\")\n",
    "\n",
    "df_econ = df_econ[df_econ[\"Country\"].str.contains(\"Macao\")==False ]\n",
    "\n",
    "df_econ = df_econ.replace('Turkiye',\"Turkey\")\n",
    "df_econ = clean_country(df_econ, \"Country\", output_format=\"alpha-2\")\n",
    "df_econ = df_econ.dropna(subset = \"Country_clean\")\n",
    "df_econ.drop(columns = ['Country'], inplace = True)\n",
    "df_econ.rename(columns = {\"Country_clean\": \"Country\"}, inplace = True)\n",
    "\n",
    "df_econ[\"Year\"] = df_econ[\"Year\"].astype(str)\n",
    "\n",
    "df_econ = df_econ[['Country', \"Year\", \n",
    "                   'Final consumption expenditure (annual % growth)', \n",
    "                   'GDP (current US$)', \n",
    "                   'Imports of goods and services (annual % growth)']].drop_duplicates()\n",
    "\n",
    "df_econ[\"Final consumption expenditure (annual % growth)\"] = df_econ[\"Final consumption expenditure (annual % growth)\"].transform(lambda x: x.fillna(x.mean()))\n",
    "df_econ[\"Imports of goods and services (annual % growth)\"] = df_econ[\"Imports of goods and services (annual % growth)\"].transform(lambda x: x.fillna(x.mean()))\n",
    "df_econ[\"GDP (current US$)\"] = df_econ[\"GDP (current US$)\"].transform(lambda x: x.fillna(x.mean()))\n",
    "\n",
    "TW_rows = pd.DataFrame([[\"TW\", str(2020 + i), \n",
    "                         df_econ[\"Final consumption expenditure (annual % growth)\"].mean(), \n",
    "                         df_econ[\"GDP (current US$)\"].mean(),\n",
    "                         df_econ[\"Imports of goods and services (annual % growth)\"].mean()] for i in range(4)], \n",
    "                       columns = df_econ.columns)\n",
    "\n",
    "df_econ = df_econ.append(TW_rows, ignore_index = True)"
   ]
  },
  {
   "cell_type": "code",
   "execution_count": 9,
   "id": "66c948b8",
   "metadata": {},
   "outputs": [],
   "source": [
    "mdf = pd.merge(df, df_GSCPI, on=[\"Year\", \"Trisem\"])\n",
    "mdf = pd.merge(mdf, df_LPI, on =[\"Country\"])\n",
    "mdf = pd.merge(mdf, df_epi, on=[\"Country\"])\n",
    "mdf = pd.merge(mdf, df_econ, on = ['Country', 'Year'])\n",
    "mdf_train = pd.merge(mdf, dfi_grouped, how = \"left\", on = [\"Year\", \"Trisem\", \"Country\"])"
   ]
  },
  {
   "cell_type": "code",
   "execution_count": 10,
   "id": "9dfa6874",
   "metadata": {},
   "outputs": [],
   "source": [
    "X_test = pd.read_csv(\"datasets_hi4/X_test.csv\", sep=\";\")\n",
    "y_test = pd.read_csv(\"datasets_hi4/y_test_example.csv\", sep=\";\")"
   ]
  },
  {
   "cell_type": "code",
   "execution_count": 11,
   "id": "e1d87360",
   "metadata": {},
   "outputs": [],
   "source": [
    "for col in [\"Month 1\", \"Month 2\", \"Month 3\"]:\n",
    "    X_test[col] = pd.to_numeric(X_test[col].str.replace(\" \", \"\"))\n",
    "\n",
    "date = X_test[\"Date\"].str.split(n=1, expand=True)\n",
    "X_test[\"Year\"] = date[1]\n",
    "X_test[\"Trisem\"] = pd.to_numeric(date[0].str.slice(stop=3).replace(month_lib))//3\n",
    "X_test[\"Trisem\"] = X_test[\"Trisem\"].astype(str)"
   ]
  },
  {
   "cell_type": "code",
   "execution_count": 12,
   "id": "2e6d5067",
   "metadata": {},
   "outputs": [],
   "source": [
    "X_test = pd.merge(X_test, df_GSCPI, on=[\"Year\", \"Trisem\"])\n",
    "X_test = pd.merge(X_test, df_LPI, on =[\"Country\"])\n",
    "X_test = pd.merge(X_test, df_epi, on=[\"Country\"])\n",
    "X_test = pd.merge(X_test, df_econ, on = ['Country', 'Year'])\n",
    "X_test = pd.merge(X_test, dfi_grouped, how = \"left\", on = [\"Year\", \"Trisem\", \"Country\"])"
   ]
  },
  {
   "cell_type": "code",
   "execution_count": 23,
   "id": "9c0f682d",
   "metadata": {},
   "outputs": [],
   "source": [
    "dataX, datay = mdf_train.drop(columns = [\"Month 4\"]), mdf_train[\"Month 4\"]\n",
    "\n",
    "X_train, X_test, y_train, y_test = train_test_split(dataX, datay, test_size = .2)\n",
    "X_train['Month 1'] = X_train.groupby('Strategic Product Family proxy')['Month 1'].transform(lambda x: x.fillna(x.mean()))\n",
    "X_test['Month 1'] = X_test.groupby('Strategic Product Family proxy')['Month 1'].transform(lambda x: x.fillna(x.mean()))"
   ]
  },
  {
   "cell_type": "code",
   "execution_count": 15,
   "id": "9a8db8ec",
   "metadata": {},
   "outputs": [],
   "source": [
    "#model_cbr = CatBoostRegressor()"
   ]
  },
  {
   "cell_type": "code",
   "execution_count": 16,
   "id": "acc3ad62",
   "metadata": {},
   "outputs": [],
   "source": [
    "#model_cbr.fit(X_train, y_train)"
   ]
  },
  {
   "cell_type": "code",
   "execution_count": 17,
   "id": "b0cfa45e",
   "metadata": {},
   "outputs": [],
   "source": [
    "#model_xgb = xgb.train(dtrain, params = {})"
   ]
  }
 ],
 "metadata": {
  "kernelspec": {
   "display_name": "Python 3 (ipykernel)",
   "language": "python",
   "name": "python3"
  },
  "language_info": {
   "codemirror_mode": {
    "name": "ipython",
    "version": 3
   },
   "file_extension": ".py",
   "mimetype": "text/x-python",
   "name": "python",
   "nbconvert_exporter": "python",
   "pygments_lexer": "ipython3",
   "version": "3.11.5"
  }
 },
 "nbformat": 4,
 "nbformat_minor": 5
}
