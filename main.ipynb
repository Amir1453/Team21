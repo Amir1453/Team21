{
 "cells": [
  {
   "cell_type": "code",
   "execution_count": 1,
   "id": "1e9f7a77-e7b9-44a8-b84d-6e271f1c7801",
   "metadata": {},
   "outputs": [],
   "source": [
    "# Packages needed\n",
    "import pandas as pd\n",
    "from dataprep.clean import clean_country"
   ]
  },
  {
   "cell_type": "code",
   "execution_count": 2,
   "id": "02d9e991-3427-46c6-8eaa-288640cd919d",
   "metadata": {},
   "outputs": [],
   "source": [
    "# Paths to datasets\n",
    "train_data = \"datasets_hi4/train-data.csv\"\n",
    "GSCPI_data = \"datasets_hi4/extra-dataset/GSCPI_data.csv\"\n",
    "LPI_data = \"datasets_hi4/extra-dataset/LPIextend.csv\"\n",
    "country_code = \"datasets_hi4/extra-dataset/country_code.csv\""
   ]
  },
  {
   "cell_type": "code",
   "execution_count": 3,
   "id": "8be3bd9c-699d-4cda-a843-702024c805b4",
   "metadata": {},
   "outputs": [],
   "source": [
    "# Initializing datasets\n",
    "td = pd.read_csv(train_data, sep=\";\")\n",
    "GSCPId = pd.read_csv(GSCPI_data, sep=\",\")\n",
    "LPId = pd.read_csv(LPI_data, sep=\",\")"
   ]
  },
  {
   "cell_type": "code",
   "execution_count": 4,
   "id": "76031a25-07d2-4e04-b5fb-560021e5faa3",
   "metadata": {},
   "outputs": [],
   "source": [
    "# Convert last column to int\n",
    "td = td.dropna(subset=[\"Month 1\"])\n",
    "for column in [\"Month 1\", \"Month 2\", \"Month 3\", \"Month 4\"]:\n",
    "    td[column] = td[column].str.replace(\" \", \"\").astype(float)"
   ]
  },
  {
   "cell_type": "code",
   "execution_count": 5,
   "id": "90169fd5-a235-4c08-8f77-58de1994199d",
   "metadata": {},
   "outputs": [],
   "source": [
    "td.drop_duplicates(inplace=True)"
   ]
  },
  {
   "cell_type": "code",
   "execution_count": 6,
   "id": "993292e6-827a-4413-84eb-e0c2f758b827",
   "metadata": {},
   "outputs": [
    {
     "name": "stderr",
     "output_type": "stream",
     "text": [
      "/home/alper/anaconda3/lib/python3.8/site-packages/dask/dataframe/core.py:6597: FutureWarning: Meta is not valid, `map_partitions` and `map_overlap` expects output to be a pandas object. Try passing a pandas object as meta or a dict or tuple representing the (name, dtype) of the columns. In the future the meta you passed will not work.\n",
      "  warnings.warn(\n"
     ]
    },
    {
     "data": {
      "application/vnd.jupyter.widget-view+json": {
       "model_id": "",
       "version_major": 2,
       "version_minor": 0
      },
      "text/plain": [
       "  0%|                                                     | 0/8 [00:00<?, ?it/s]"
      ]
     },
     "metadata": {},
     "output_type": "display_data"
    },
    {
     "name": "stdout",
     "output_type": "stream",
     "text": [
      "Country Cleaning Report:\n",
      "\t248 values cleaned (99.2%)\n",
      "\t2 values unable to be parsed (0.8%), set to NaN\n",
      "Result contains 248 (99.2%) values in the correct format and 2 null values (0.8%)\n"
     ]
    }
   ],
   "source": [
    "# Merging LPI Mean score to train data\n",
    "columns = []\n",
    "for column in LPId.columns:\n",
    "    if \"Score\" in column:\n",
    "        columns.append(column)\n",
    "LPId[\"LPI Mean Score\"] = LPId[columns].mean(axis=1)\n",
    "LPId = clean_country(LPId, \"Country\", output_format=\"alpha-2\", inplace=True)\n",
    "LPId = LPId[[\"Country_clean\", \"LPI Mean Score\"]].rename(columns={\"Country_clean\": \"Country\"})\n",
    "td = pd.merge(td, LPId, on = \"Country\")"
   ]
  },
  {
   "cell_type": "code",
   "execution_count": 7,
   "id": "3169283e-1c13-4d85-88f6-61388e1090f8",
   "metadata": {},
   "outputs": [],
   "source": [
    "month_lib = {\n",
    "    \"jan\": 0,\n",
    "    \"feb\": 1,    \n",
    "    \"mar\": 2,\n",
    "    \"apr\": 3,    \n",
    "    \"may\": 4,\n",
    "    \"jun\": 5,    \n",
    "    \"jul\": 6,\n",
    "    \"aug\": 7,    \n",
    "    \"sep\": 8,\n",
    "    \"oct\": 9,    \n",
    "    \"nov\": 10,\n",
    "    \"dec\": 11\n",
    "}"
   ]
  },
  {
   "cell_type": "code",
   "execution_count": 8,
   "id": "874f7b21-1955-44ca-8dcb-7a0be1be8864",
   "metadata": {},
   "outputs": [],
   "source": [
    "date = td[\"Date\"].str.split(n=1, expand=True)\n",
    "td[\"Year\"] = date[1]\n",
    "td[\"Quarter\"] = pd.to_numeric(date[0].str.slice(stop=3).replace(month_lib))//3\n",
    "td[\"Quarter\"] = td[\"Quarter\"].astype(str)"
   ]
  },
  {
   "cell_type": "code",
   "execution_count": 9,
   "id": "7864547d-db3b-4ef8-8fb1-b14b3b533205",
   "metadata": {},
   "outputs": [],
   "source": [
    "GSCPId[\"Year\"] = GSCPId[\"Year-Month\"].str.slice(stop=4)\n",
    "GSCPId[\"Quarter\"] = pd.to_numeric(GSCPId[\"Year-Month\"].str.slice(start=5))//3\n",
    "GSCPId[\"Quarter\"] = GSCPId[\"Quarter\"].astype(str)"
   ]
  },
  {
   "cell_type": "code",
   "execution_count": 10,
   "id": "501958bb-a6f5-46fc-806b-99554a30e18a",
   "metadata": {},
   "outputs": [],
   "source": [
    "GSCPId = GSCPId.groupby([\"Year\", \"Quarter\"], as_index=False)[\"GSCPI\"].mean()"
   ]
  },
  {
   "cell_type": "code",
   "execution_count": 11,
   "id": "abcaae78-6e97-474a-842a-70f170ba0aaa",
   "metadata": {},
   "outputs": [],
   "source": [
    "td = pd.merge(td, GSCPId, on=[\"Year\", \"Quarter\"])"
   ]
  },
  {
   "cell_type": "code",
   "execution_count": 13,
   "id": "dad018bc-bb21-49d4-b2e2-3ea32b428dcf",
   "metadata": {},
   "outputs": [],
   "source": [
    "td.to_csv(\"datasets_hi4/train_data_extra.csv\",sep=\";\")"
   ]
  }
 ],
 "metadata": {
  "kernelspec": {
   "display_name": "Python 3 (ipykernel)",
   "language": "python",
   "name": "python3"
  },
  "language_info": {
   "codemirror_mode": {
    "name": "ipython",
    "version": 3
   },
   "file_extension": ".py",
   "mimetype": "text/x-python",
   "name": "python",
   "nbconvert_exporter": "python",
   "pygments_lexer": "ipython3",
   "version": "3.8.3"
  }
 },
 "nbformat": 4,
 "nbformat_minor": 5
}
