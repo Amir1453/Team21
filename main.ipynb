{
 "cells": [
  {
   "cell_type": "code",
   "execution_count": 1,
   "id": "1e9f7a77-e7b9-44a8-b84d-6e271f1c7801",
   "metadata": {},
   "outputs": [
    {
     "ename": "ModuleNotFoundError",
     "evalue": "No module named 'dataprep'",
     "output_type": "error",
     "traceback": [
      "\u001b[0;31m---------------------------------------------------------------------------\u001b[0m",
      "\u001b[0;31mModuleNotFoundError\u001b[0m                       Traceback (most recent call last)",
      "Cell \u001b[0;32mIn[1], line 3\u001b[0m\n\u001b[1;32m      1\u001b[0m \u001b[38;5;66;03m# Packages needed\u001b[39;00m\n\u001b[1;32m      2\u001b[0m \u001b[38;5;28;01mimport\u001b[39;00m \u001b[38;5;21;01mpandas\u001b[39;00m \u001b[38;5;28;01mas\u001b[39;00m \u001b[38;5;21;01mpd\u001b[39;00m\n\u001b[0;32m----> 3\u001b[0m \u001b[38;5;28;01mfrom\u001b[39;00m \u001b[38;5;21;01mdataprep\u001b[39;00m\u001b[38;5;21;01m.\u001b[39;00m\u001b[38;5;21;01mclean\u001b[39;00m \u001b[38;5;28;01mimport\u001b[39;00m clean_country\n",
      "\u001b[0;31mModuleNotFoundError\u001b[0m: No module named 'dataprep'"
     ]
    }
   ],
   "source": [
    "# Packages needed\n",
    "import pandas as pd\n",
    "from dataprep.clean import clean_country"
   ]
  },
  {
   "cell_type": "code",
   "execution_count": null,
   "id": "02d9e991-3427-46c6-8eaa-288640cd919d",
   "metadata": {},
   "outputs": [],
   "source": [
    "# Paths to datasets\n",
    "train_data = \"datasets_hi4/train-data.csv\"\n",
    "GSPCI_data = \"datasets_hi4/extra-dataset/GSCPI_data.csv\"\n",
    "LPI_data = \"datasets_hi4/extra-dataset/LPIextend.csv\"\n",
    "country_code = \"datasets_hi4/extra-dataset/country_code.csv\""
   ]
  },
  {
   "cell_type": "code",
   "execution_count": null,
   "id": "8be3bd9c-699d-4cda-a843-702024c805b4",
   "metadata": {},
   "outputs": [],
   "source": [
    "# Initializing datasets\n",
    "td = pd.read_csv(train_data, sep=\";\")\n",
    "GSPCId = pd.read_csv(GSPCI_data, sep=\",\")\n",
    "LPId = pd.read_csv(LPI_data, sep=\",\")\n",
    "cd = pd.read_csv(country_code, sep=\",\")"
   ]
  },
  {
   "cell_type": "code",
   "execution_count": null,
   "id": "76031a25-07d2-4e04-b5fb-560021e5faa3",
   "metadata": {},
   "outputs": [],
   "source": [
    "# Convert last column to int\n",
    "td = td.dropna(subset=[\"Month 1\"])\n",
    "for column in [\"Month 1\", \"Month 2\", \"Month 3\", \"Month 4\"]:\n",
    "    td[column] = td[column].str.replace(\" \", \"\").astype(float)"
   ]
  },
  {
   "cell_type": "code",
   "execution_count": null,
   "id": "90169fd5-a235-4c08-8f77-58de1994199d",
   "metadata": {},
   "outputs": [],
   "source": [
    "td.drop_duplicates(inplace=True)"
   ]
  },
  {
   "cell_type": "code",
   "execution_count": null,
   "id": "993292e6-827a-4413-84eb-e0c2f758b827",
   "metadata": {},
   "outputs": [],
   "source": [
    "# Merging LPI Mean score to train data\n",
    "columns = []\n",
    "for column in LPId.columns:\n",
    "    if \"Score\" in column:\n",
    "        columns.append(column)\n",
    "LPId[\"LPI Mean Score\"] = LPId[columns].mean(axis=1)\n",
    "LPId = clean_country(LPId, \"Country\", output_format=\"alpha-2\", inplace=True)\n",
    "LPId = LPId[[\"Country (A2)\", \"LPI Mean Score\"]].rename(columns={\"Country (A2)\": \"Country\"})\n",
    "td = pd.merge(td, LPId, on = \"Country\")"
   ]
  },
  {
   "cell_type": "code",
   "execution_count": null,
   "id": "3169283e-1c13-4d85-88f6-61388e1090f8",
   "metadata": {},
   "outputs": [],
   "source": [
    "month_lib = {\n",
    "    \"jan\": 0,\n",
    "    \"feb\": 1,    \n",
    "    \"mar\": 2,\n",
    "    \"apr\": 3,    \n",
    "    \"may\": 4,\n",
    "    \"jun\": 5,    \n",
    "    \"jul\": 6,\n",
    "    \"aug\": 7,    \n",
    "    \"sep\": 8,\n",
    "    \"oct\": 9,    \n",
    "    \"nov\": 10,\n",
    "    \"dec\": 11\n",
    "}"
   ]
  },
  {
   "cell_type": "code",
   "execution_count": null,
   "id": "874f7b21-1955-44ca-8dcb-7a0be1be8864",
   "metadata": {},
   "outputs": [],
   "source": [
    "date = td[\"Date\"].str.split(n=1, expand=True)\n",
    "td[\"Year\"] = date[1]\n",
    "td[\"Quarter\"] = pd.to_numeric(date[0].str.slice(stop=3).replace(month_lib))//3\n",
    "td[\"Quarter\"] = td[\"Quarter\"].astype(str)"
   ]
  },
  {
   "cell_type": "code",
   "execution_count": null,
   "id": "7864547d-db3b-4ef8-8fb1-b14b3b533205",
   "metadata": {},
   "outputs": [],
   "source": [
    "GSPCId[\"Year\"] = GSCPId[\"Year-Month\"].str.slice(stop=4)\n",
    "GSCPId[\"Quarter\"] = pd.to_numeric(GSCPId[\"Year-Month\"].str.slice(start=5))//3\n",
    "GSCPId[\"Quarter\"] = GSCPId[\"Quarter\"].astype(str)"
   ]
  },
  {
   "cell_type": "code",
   "execution_count": null,
   "id": "501958bb-a6f5-46fc-806b-99554a30e18a",
   "metadata": {},
   "outputs": [],
   "source": [
    "GSCPId = GSCPId.groupby([\"Year\", \"Quarter\"], as_index=False)[\"GSCPI\"].mean()"
   ]
  },
  {
   "cell_type": "code",
   "execution_count": null,
   "id": "abcaae78-6e97-474a-842a-70f170ba0aaa",
   "metadata": {},
   "outputs": [],
   "source": [
    "td = pd.merge(td, GSCPId, on=[\"Year\", \"Quarter\"])"
   ]
  },
  {
   "cell_type": "code",
   "execution_count": null,
   "id": "dad018bc-bb21-49d4-b2e2-3ea32b428dcf",
   "metadata": {},
   "outputs": [],
   "source": [
    "td.to_csv(\"datesets_hi4/train_data_extra.csv\",sep=\";\")"
   ]
  }
 ],
 "metadata": {
  "kernelspec": {
   "display_name": "Python 3 (ipykernel)",
   "language": "python",
   "name": "python3"
  },
  "language_info": {
   "codemirror_mode": {
    "name": "ipython",
    "version": 3
   },
   "file_extension": ".py",
   "mimetype": "text/x-python",
   "name": "python",
   "nbconvert_exporter": "python",
   "pygments_lexer": "ipython3",
   "version": "3.11.6"
  }
 },
 "nbformat": 4,
 "nbformat_minor": 5
}
